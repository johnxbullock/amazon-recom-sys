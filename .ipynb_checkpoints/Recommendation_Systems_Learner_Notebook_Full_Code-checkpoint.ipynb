{
 "cells": [
  {
   "cell_type": "markdown",
   "metadata": {
    "id": "pXQzH0nC5JtP"
   },
   "source": [
    "# **Project: Amazon Product Recommendation System**\n",
    "\n",
    "# **Marks: 40**\n",
    "\n",
    "\n",
    "Welcome to the project on Recommendation Systems. We will work with the Amazon product reviews dataset for this project. The dataset contains ratings of different electronic products. It does not include information about the products or reviews to avoid bias while building the model. \n",
    "\n",
    "--------------\n",
    "## **Context:**\n",
    "--------------\n",
    "\n",
    "Today, information is growing exponentially with volume, velocity and variety throughout the globe. This has lead to information overload, and too many choices for the consumer of any business. It represents a real dilemma for these consumers and they often turn to denial. Recommender Systems are one of the best tools that help recommending products to consumers while they are browsing online. Providing personalized recommendations which is most relevant for the user is what's most likely to keep them engaged and help business. \n",
    "\n",
    "E-commerce websites like Amazon, Walmart, Target and Etsy use different recommendation models to provide personalized suggestions to different users. These companies spend millions of dollars to come up with algorithmic techniques that can provide personalized recommendations to their users.\n",
    "\n",
    "Amazon, for example, is well-known for its accurate selection of recommendations in its online site. Amazon's recommendation system is capable of intelligently analyzing and predicting customers' shopping preferences in order to offer them a list of recommended products. Amazon's recommendation algorithm is therefore a key element in using AI to improve the personalization of its website. For example, one of the baseline recommendation models that Amazon uses is item-to-item collaborative filtering, which scales to massive data sets and produces high-quality recommendations in real-time.\n",
    "\n",
    "----------------\n",
    "## **Objective:**\n",
    "----------------\n",
    "\n",
    "You are a Data Science Manager at Amazon, and have been given the task of building a recommendation system to recommend products to customers based on their previous ratings for other products. You have a collection of labeled data of Amazon reviews of products. The goal is to extract meaningful insights from the data and build a recommendation system that helps in recommending products to online consumers.\n",
    "\n",
    "-----------------------------\n",
    "## **Dataset:** \n",
    "-----------------------------\n",
    "\n",
    "The Amazon dataset contains the following attributes:\n",
    "\n",
    "- **userId:** Every user identified with a unique id\n",
    "- **productId:** Every product identified with a unique id\n",
    "- **Rating:** The rating of the corresponding product by the corresponding user\n",
    "- **timestamp:** Time of the rating. We **will not use this column** to solve the current problem"
   ]
  },
  {
   "cell_type": "markdown",
   "metadata": {
    "id": "nmdPxJ2Q7W7p"
   },
   "source": [
    "**Note:** The code has some user defined functions that will be usefull while making recommendations and measure model performance, you can use these functions or can create your own functions. "
   ]
  },
  {
   "cell_type": "markdown",
   "metadata": {
    "id": "UoRfgjS2yekq"
   },
   "source": [
    "Sometimes, the installation of the surprise library, which is used to build recommendation systems, faces issues in Jupyter. To avoid any issues, it is advised to use **Google Colab** for this project.\n",
    "\n",
    "Let's start by mounting the Google drive on Colab."
   ]
  },
  {
   "cell_type": "markdown",
   "metadata": {
    "id": "0Ibk07-Cyekt"
   },
   "source": [
    "**Installing surprise library**"
   ]
  },
  {
   "cell_type": "markdown",
   "metadata": {
    "id": "7fIt4jcFIm76"
   },
   "source": [
    "## **Importing the necessary libraries and overview of the dataset**"
   ]
  },
  {
   "cell_type": "code",
   "execution_count": 1,
   "metadata": {
    "id": "jzu2P-TT5JtP",
    "ExecuteTime": {
     "end_time": "2024-09-23T07:18:16.543381Z",
     "start_time": "2024-09-23T07:18:16.063968Z"
    }
   },
   "outputs": [],
   "source": [
    "# import numpy and pandas\n",
    "import numpy as np\n",
    "import pandas as pd\n",
    "\n",
    "# libraries for plotting \n",
    "import matplotlib.pyplot as plt\n",
    "import seaborn as sns\n",
    "\n",
    "import os\n",
    "\n",
    "from datascienceutils import DataScienceUtils as u\n",
    "\n",
    "# For implementing matrix factorization based recommendation system\n",
    "from surprise.prediction_algorithms.matrix_factorization import SVD\n",
    "from collections import defaultdict\n",
    "\n",
    "# For implementing cross-validation\n",
    "from surprise.model_selection import KFold\n",
    "\n",
    "from sklearn.preprocessing import LabelEncoder\n",
    "\n",
    "import warnings\n",
    "warnings.filterwarnings('ignore')\n",
    "\n",
    "from typing import Callable"
   ]
  },
  {
   "cell_type": "markdown",
   "metadata": {
    "id": "NrXYJAv95JtP"
   },
   "source": [
    "### **Loading the data**\n",
    "- Import the Dataset\n",
    "- Add column names ['user_id', 'prod_id', 'rating', 'timestamp']\n",
    "- Drop the column timestamp\n",
    "- Copy the data to another DataFrame called **df**"
   ]
  },
  {
   "cell_type": "code",
   "execution_count": 123,
   "metadata": {
    "id": "JGb-Hk1B5JtP",
    "ExecuteTime": {
     "end_time": "2024-09-23T09:40:27.780752Z",
     "start_time": "2024-09-23T09:40:13.305366Z"
    }
   },
   "outputs": [
    {
     "data": {
      "text/plain": "          user_id     prod_id  rating   timestamp\n0   AKM1MP6P0OYPR  0132793040     5.0  1365811200\n1  A2CX7LUOHB2NDG  0321732944     5.0  1341100800\n2  A2NWSAGRHCP8N5  0439886341     1.0  1367193600\n3  A2WNBOD3WNDNKT  0439886341     3.0  1374451200\n4  A1GI0U4ZRJA8WN  0439886341     1.0  1334707200",
      "text/html": "<div>\n<style scoped>\n    .dataframe tbody tr th:only-of-type {\n        vertical-align: middle;\n    }\n\n    .dataframe tbody tr th {\n        vertical-align: top;\n    }\n\n    .dataframe thead th {\n        text-align: right;\n    }\n</style>\n<table border=\"1\" class=\"dataframe\">\n  <thead>\n    <tr style=\"text-align: right;\">\n      <th></th>\n      <th>user_id</th>\n      <th>prod_id</th>\n      <th>rating</th>\n      <th>timestamp</th>\n    </tr>\n  </thead>\n  <tbody>\n    <tr>\n      <th>0</th>\n      <td>AKM1MP6P0OYPR</td>\n      <td>0132793040</td>\n      <td>5.0</td>\n      <td>1365811200</td>\n    </tr>\n    <tr>\n      <th>1</th>\n      <td>A2CX7LUOHB2NDG</td>\n      <td>0321732944</td>\n      <td>5.0</td>\n      <td>1341100800</td>\n    </tr>\n    <tr>\n      <th>2</th>\n      <td>A2NWSAGRHCP8N5</td>\n      <td>0439886341</td>\n      <td>1.0</td>\n      <td>1367193600</td>\n    </tr>\n    <tr>\n      <th>3</th>\n      <td>A2WNBOD3WNDNKT</td>\n      <td>0439886341</td>\n      <td>3.0</td>\n      <td>1374451200</td>\n    </tr>\n    <tr>\n      <th>4</th>\n      <td>A1GI0U4ZRJA8WN</td>\n      <td>0439886341</td>\n      <td>1.0</td>\n      <td>1334707200</td>\n    </tr>\n  </tbody>\n</table>\n</div>"
     },
     "execution_count": 123,
     "metadata": {},
     "output_type": "execute_result"
    }
   ],
   "source": [
    "# read the data into a dataframe\n",
    "df = pd.read_csv('Data/ratings_Electronics.csv', header=None, names=['user_id', 'prod_id', 'rating', 'timestamp'])\n",
    "\n",
    "#inspect the first few rows of data\n",
    "df.head()"
   ]
  },
  {
   "cell_type": "code",
   "outputs": [
    {
     "data": {
      "text/plain": "(7824482, 4)"
     },
     "execution_count": 124,
     "metadata": {},
     "output_type": "execute_result"
    }
   ],
   "source": [
    "# inspect the number of rows and columns in the df\n",
    "df.shape"
   ],
   "metadata": {
    "collapsed": false,
    "ExecuteTime": {
     "end_time": "2024-09-23T09:40:30.890745Z",
     "start_time": "2024-09-23T09:40:30.878752Z"
    }
   },
   "execution_count": 124
  },
  {
   "cell_type": "code",
   "outputs": [
    {
     "name": "stdout",
     "output_type": "stream",
     "text": [
      "<class 'pandas.core.frame.DataFrame'>\n",
      "RangeIndex: 7824482 entries, 0 to 7824481\n",
      "Data columns (total 4 columns):\n",
      " #   Column     Dtype  \n",
      "---  ------     -----  \n",
      " 0   user_id    object \n",
      " 1   prod_id    object \n",
      " 2   rating     float64\n",
      " 3   timestamp  int64  \n",
      "dtypes: float64(1), int64(1), object(2)\n",
      "memory usage: 238.8+ MB\n"
     ]
    }
   ],
   "source": [
    "# view the number of cols and rows of the dataframe\n",
    "df.info()"
   ],
   "metadata": {
    "collapsed": false,
    "ExecuteTime": {
     "end_time": "2024-09-23T09:40:31.994117Z",
     "start_time": "2024-09-23T09:40:31.963891Z"
    }
   },
   "execution_count": 125
  },
  {
   "cell_type": "code",
   "outputs": [
    {
     "name": "stdout",
     "output_type": "stream",
     "text": [
      "1. user_id \n",
      "\n",
      "Data type: object\n",
      "Number of distinct values: 4201696\n",
      "Percentage of entries null: 0.0\n",
      "Values taken on by the variable: ['AKM1MP6P0OYPR' 'A2CX7LUOHB2NDG' 'A2NWSAGRHCP8N5' 'A2WNBOD3WNDNKT'\n",
      " 'A1GI0U4ZRJA8WN' 'A1QGNMC6O1VW39' 'A3J3BRHTDRFJ2G' 'A2TY0BTJOTENPG'\n",
      " 'A34ATBPOK6HCHY' 'A89DO69P0XZ27' 'AZYNQZ94U6VDB' 'A1DA3W4GTFXP6O'\n",
      " 'A29LPQQDG7LD5J' 'AO94DHGC771SJ' 'AMO214LNFCEI4' 'A28B1G1MSJ6OO1'\n",
      " 'A3N7T0DY83Y4IG' 'A1H8PY3QHMQQA0' 'A2CPBQ5W4OGBX' 'A265MKAR2WEH3Y'] \n",
      "\n",
      "2. prod_id \n",
      "\n",
      "Data type: object\n",
      "Number of distinct values: 476002\n",
      "Percentage of entries null: 0.0\n",
      "Values taken on by the variable: ['0132793040' '0321732944' '0439886341' '0511189877' '0528881469'\n",
      " '0558835155' '059400232X' '0594012015' '0594017343' '0594017580'\n",
      " '0594033896' '0594033926' '0594033934' '0594202442' '0594287995'\n",
      " '0594296420' '0594450209' '0594450705' '0594451647' '0594477670'] \n",
      "\n",
      "\n",
      "3. rating \n",
      "\n",
      "Data type: float64\n",
      "Number of distinct values: 5\n",
      "Percentage of entries null: 0.0\n",
      "Values taken on by the variable: [5. 1. 3. 2. 4.] \n",
      "\n",
      "\n",
      "4. timestamp \n",
      "\n",
      "Data type: int64\n",
      "Number of distinct values: 5489\n",
      "Percentage of entries null: 0.0\n",
      "Values taken on by the variable: Range: 912729600 - 1406073600 \n"
     ]
    }
   ],
   "source": [
    "u.inspect_variable_values(df)"
   ],
   "metadata": {
    "collapsed": false,
    "ExecuteTime": {
     "end_time": "2024-09-23T09:40:39.476694Z",
     "start_time": "2024-09-23T09:40:33.146331Z"
    }
   },
   "execution_count": 126
  },
  {
   "cell_type": "markdown",
   "metadata": {
    "id": "OVQnSG5g_9uX"
   },
   "source": [
    "**As this dataset is very large and has 7,824,482 observations, it is not computationally possible to build a model using this. Moreover, many users have only rated a few products and also some products are rated by very few users. Hence, we can reduce the dataset by considering certain logical assumptions.**\n",
    "\n",
    "Here, we will be taking users who have given at least 50 ratings, and the products that have at least 5 ratings, as when we shop online we prefer to have some number of ratings of a product. "
   ]
  },
  {
   "cell_type": "code",
   "execution_count": 127,
   "metadata": {
    "id": "4yt9W7Q32EQQ",
    "ExecuteTime": {
     "end_time": "2024-09-23T09:40:46.145650Z",
     "start_time": "2024-09-23T09:40:41.051466Z"
    }
   },
   "outputs": [],
   "source": [
    "# Get the column containing the users\n",
    "users = df.user_id\n",
    "\n",
    "# Create a dictionary from users to their number of ratings\n",
    "ratings_count = dict()\n",
    "\n",
    "for user in users:\n",
    "\n",
    "    # If we already have the user, just add 1 to their rating count\n",
    "    if user in ratings_count:        \n",
    "        ratings_count[user] += 1\n",
    "  \n",
    "    # Otherwise, set their rating count to 1\n",
    "    else:\n",
    "        ratings_count[user] = 1"
   ]
  },
  {
   "cell_type": "code",
   "execution_count": 128,
   "metadata": {
    "id": "19XB60dq2EQR",
    "ExecuteTime": {
     "end_time": "2024-09-23T09:40:54.306955Z",
     "start_time": "2024-09-23T09:40:50.161963Z"
    }
   },
   "outputs": [],
   "source": [
    "# We want our users to have at least 50 ratings to be considered\n",
    "RATINGS_CUTOFF = 50\n",
    "\n",
    "remove_users = []\n",
    "\n",
    "for user, num_ratings in ratings_count.items():\n",
    "    if num_ratings < RATINGS_CUTOFF:\n",
    "        remove_users.append(user)\n",
    "\n",
    "df = df.loc[ ~ df.user_id.isin(remove_users)]"
   ]
  },
  {
   "cell_type": "code",
   "execution_count": 129,
   "metadata": {
    "id": "33UzK1D82EQS",
    "ExecuteTime": {
     "end_time": "2024-09-23T09:41:00.512455Z",
     "start_time": "2024-09-23T09:40:58.311857Z"
    }
   },
   "outputs": [],
   "source": [
    "# Get the column containing the products\n",
    "prods = df.prod_id\n",
    "\n",
    "# Create a dictionary from products to their number of ratings\n",
    "ratings_count = dict()\n",
    "\n",
    "for prod in prods:\n",
    "    \n",
    "    # If we already have the product, just add 1 to its rating count\n",
    "    if prod in ratings_count:\n",
    "        ratings_count[prod] += 1\n",
    "    \n",
    "    # Otherwise, set their rating count to 1\n",
    "    else:\n",
    "        ratings_count[prod] = 1    "
   ]
  },
  {
   "cell_type": "code",
   "execution_count": 130,
   "metadata": {
    "id": "u6YE-lUp2EQT",
    "ExecuteTime": {
     "end_time": "2024-09-23T09:41:01.496860Z",
     "start_time": "2024-09-23T09:41:01.390396Z"
    }
   },
   "outputs": [],
   "source": [
    "# We want our item to have at least 5 ratings to be considered\n",
    "RATINGS_CUTOFF = 5\n",
    "\n",
    "remove_users = []\n",
    "\n",
    "for user, num_ratings in ratings_count.items():\n",
    "    if num_ratings < RATINGS_CUTOFF:\n",
    "        remove_users.append(user)\n",
    "\n",
    "df = df.loc[~ df.prod_id.isin(remove_users)]"
   ]
  },
  {
   "cell_type": "code",
   "execution_count": 131,
   "metadata": {
    "id": "aL1JZ00o5JtQ",
    "ExecuteTime": {
     "end_time": "2024-09-23T09:41:02.811521Z",
     "start_time": "2024-09-23T09:41:02.798899Z"
    }
   },
   "outputs": [
    {
     "data": {
      "text/plain": "             user_id     prod_id  rating   timestamp\n1310  A3LDPF5FMB782Z  1400501466     5.0  1336003200\n1322  A1A5KUIIIHFF4U  1400501466     1.0  1332547200\n1335  A2XIOXRRYX0KZY  1400501466     3.0  1371686400\n1451   AW3LX47IHPFRL  1400501466     5.0  1339804800\n1456  A1E3OB6QMBKRYZ  1400501466     1.0  1350086400",
      "text/html": "<div>\n<style scoped>\n    .dataframe tbody tr th:only-of-type {\n        vertical-align: middle;\n    }\n\n    .dataframe tbody tr th {\n        vertical-align: top;\n    }\n\n    .dataframe thead th {\n        text-align: right;\n    }\n</style>\n<table border=\"1\" class=\"dataframe\">\n  <thead>\n    <tr style=\"text-align: right;\">\n      <th></th>\n      <th>user_id</th>\n      <th>prod_id</th>\n      <th>rating</th>\n      <th>timestamp</th>\n    </tr>\n  </thead>\n  <tbody>\n    <tr>\n      <th>1310</th>\n      <td>A3LDPF5FMB782Z</td>\n      <td>1400501466</td>\n      <td>5.0</td>\n      <td>1336003200</td>\n    </tr>\n    <tr>\n      <th>1322</th>\n      <td>A1A5KUIIIHFF4U</td>\n      <td>1400501466</td>\n      <td>1.0</td>\n      <td>1332547200</td>\n    </tr>\n    <tr>\n      <th>1335</th>\n      <td>A2XIOXRRYX0KZY</td>\n      <td>1400501466</td>\n      <td>3.0</td>\n      <td>1371686400</td>\n    </tr>\n    <tr>\n      <th>1451</th>\n      <td>AW3LX47IHPFRL</td>\n      <td>1400501466</td>\n      <td>5.0</td>\n      <td>1339804800</td>\n    </tr>\n    <tr>\n      <th>1456</th>\n      <td>A1E3OB6QMBKRYZ</td>\n      <td>1400501466</td>\n      <td>1.0</td>\n      <td>1350086400</td>\n    </tr>\n  </tbody>\n</table>\n</div>"
     },
     "execution_count": 131,
     "metadata": {},
     "output_type": "execute_result"
    }
   ],
   "source": [
    "# Print a few rows of the imported dataset\n",
    "df.head()"
   ]
  },
  {
   "cell_type": "code",
   "outputs": [
    {
     "name": "stdout",
     "output_type": "stream",
     "text": [
      "<class 'pandas.core.frame.DataFrame'>\n",
      "Index: 65290 entries, 1310 to 7824427\n",
      "Data columns (total 4 columns):\n",
      " #   Column     Non-Null Count  Dtype  \n",
      "---  ------     --------------  -----  \n",
      " 0   user_id    65290 non-null  object \n",
      " 1   prod_id    65290 non-null  object \n",
      " 2   rating     65290 non-null  float64\n",
      " 3   timestamp  65290 non-null  int64  \n",
      "dtypes: float64(1), int64(1), object(2)\n",
      "memory usage: 2.5+ MB\n"
     ]
    }
   ],
   "source": [
    "# inspect the data again\n",
    "df.info()"
   ],
   "metadata": {
    "collapsed": false,
    "ExecuteTime": {
     "end_time": "2024-09-23T09:41:04.100721Z",
     "start_time": "2024-09-23T09:41:04.073735Z"
    }
   },
   "execution_count": 132
  },
  {
   "cell_type": "code",
   "outputs": [
    {
     "name": "stdout",
     "output_type": "stream",
     "text": [
      "1. user_id \n",
      "\n",
      "Data type: object\n",
      "Number of distinct values: 1540\n",
      "Percentage of entries null: 0.0\n",
      "Values taken on by the variable: ['A3LDPF5FMB782Z' 'A1A5KUIIIHFF4U' 'A2XIOXRRYX0KZY' 'AW3LX47IHPFRL'\n",
      " 'A1E3OB6QMBKRYZ' 'A19N3S7CBSU6O7' 'A2ZR3YTMEEIIZ4' 'A3CLWR1UUZT6TG'\n",
      " 'A5JLAU2ARJ0BO' 'A1P4XD7IORSEFN' 'A341HCMGNZCBIT' 'A3HPCRD9RX351S'\n",
      " 'A1DQHS7MOVYYYA' 'ALUNVOQRXOZIA' 'A3G7BEJJCPD6DS' 'A2JXS1JII6SAUD'\n",
      " 'A1C82BC5GNABOA' 'A1VHCO8RQFIGQJ' 'A2Z9S2RQD542CP' 'A2QIC4G483SQQA'] \n",
      "\n",
      "\n",
      "2. prod_id \n",
      "\n",
      "Data type: object\n",
      "Number of distinct values: 5689\n",
      "Percentage of entries null: 0.0\n",
      "Values taken on by the variable: ['1400501466' '1400532655' '1400599997' '9983891212' 'B00000DM9W'\n",
      " 'B00000J1V5' 'B00000JDF5' 'B00000JDF6' 'B00000K135' 'B00000K4KH'\n",
      " 'B00001P4XA' 'B00001P4XH' 'B00001P4ZH' 'B00001W0DI' 'B00001WRSJ'\n",
      " 'B00001ZWXA' 'B000021YU8' 'B0000228GG' 'B000026D8E' 'B00002EQCW'] \n",
      "\n",
      "\n",
      "3. rating \n",
      "\n",
      "Data type: float64\n",
      "Number of distinct values: 5\n",
      "Percentage of entries null: 0.0\n",
      "Values taken on by the variable: [5. 1. 3. 4. 2.] \n",
      "\n",
      "\n",
      "4. timestamp \n",
      "\n",
      "Data type: int64\n",
      "Number of distinct values: 3400\n",
      "Percentage of entries null: 0.0\n",
      "Values taken on by the variable: Range: 956620800 - 1406073600 \n"
     ]
    }
   ],
   "source": [
    "# inspect variable values again\n",
    "u.inspect_variable_values(df)"
   ],
   "metadata": {
    "collapsed": false,
    "ExecuteTime": {
     "end_time": "2024-09-23T09:41:06.068022Z",
     "start_time": "2024-09-23T09:41:06.020173Z"
    }
   },
   "execution_count": 133
  },
  {
   "cell_type": "markdown",
   "metadata": {
    "id": "GuPoy_XfxhXZ"
   },
   "source": [
    "## **Exploratory Data Analysis**"
   ]
  },
  {
   "cell_type": "markdown",
   "metadata": {
    "id": "s0d0bWeG-sVB"
   },
   "source": [
    "### **Shape of the data**"
   ]
  },
  {
   "cell_type": "markdown",
   "metadata": {
    "id": "qyBVTRDTyek0"
   },
   "source": [
    "### **Check the number of rows and columns and provide observations.**"
   ]
  },
  {
   "cell_type": "code",
   "execution_count": 134,
   "metadata": {
    "id": "fJ4eQKaY5JtQ",
    "ExecuteTime": {
     "end_time": "2024-09-23T09:41:13.227140Z",
     "start_time": "2024-09-23T09:41:13.216297Z"
    }
   },
   "outputs": [
    {
     "data": {
      "text/plain": "(65290, 4)"
     },
     "execution_count": 134,
     "metadata": {},
     "output_type": "execute_result"
    }
   ],
   "source": [
    "# Check the number of rows and columns and provide observations\n",
    "df.shape"
   ]
  },
  {
   "cell_type": "markdown",
   "source": [
    "The number of observations (rows) has been reduced to 65, 290 with four variables (columns)."
   ],
   "metadata": {
    "collapsed": false
   }
  },
  {
   "cell_type": "markdown",
   "metadata": {
    "id": "lAMWm0nC-sVF"
   },
   "source": [
    "### **Data types**"
   ]
  },
  {
   "cell_type": "code",
   "execution_count": 135,
   "metadata": {
    "id": "SVrgMkye5JtQ",
    "ExecuteTime": {
     "end_time": "2024-09-23T09:41:33.737313Z",
     "start_time": "2024-09-23T09:41:33.680412Z"
    }
   },
   "outputs": [
    {
     "name": "stdout",
     "output_type": "stream",
     "text": [
      "1. user_id \n",
      "\n",
      "Data type: object\n",
      "Number of distinct values: 1540\n",
      "Percentage of entries null: 0.0\n",
      "Values taken on by the variable: ['A3LDPF5FMB782Z' 'A1A5KUIIIHFF4U' 'A2XIOXRRYX0KZY' 'AW3LX47IHPFRL'\n",
      " 'A1E3OB6QMBKRYZ' 'A19N3S7CBSU6O7' 'A2ZR3YTMEEIIZ4' 'A3CLWR1UUZT6TG'\n",
      " 'A5JLAU2ARJ0BO' 'A1P4XD7IORSEFN' 'A341HCMGNZCBIT' 'A3HPCRD9RX351S'\n",
      " 'A1DQHS7MOVYYYA' 'ALUNVOQRXOZIA' 'A3G7BEJJCPD6DS' 'A2JXS1JII6SAUD'\n",
      " 'A1C82BC5GNABOA' 'A1VHCO8RQFIGQJ' 'A2Z9S2RQD542CP' 'A2QIC4G483SQQA'] \n",
      "\n",
      "\n",
      "2. prod_id \n",
      "\n",
      "Data type: object\n",
      "Number of distinct values: 5689\n",
      "Percentage of entries null: 0.0\n",
      "Values taken on by the variable: ['1400501466' '1400532655' '1400599997' '9983891212' 'B00000DM9W'\n",
      " 'B00000J1V5' 'B00000JDF5' 'B00000JDF6' 'B00000K135' 'B00000K4KH'\n",
      " 'B00001P4XA' 'B00001P4XH' 'B00001P4ZH' 'B00001W0DI' 'B00001WRSJ'\n",
      " 'B00001ZWXA' 'B000021YU8' 'B0000228GG' 'B000026D8E' 'B00002EQCW'] \n",
      "\n",
      "\n",
      "3. rating \n",
      "\n",
      "Data type: float64\n",
      "Number of distinct values: 5\n",
      "Percentage of entries null: 0.0\n",
      "Values taken on by the variable: [5. 1. 3. 4. 2.] \n",
      "\n",
      "\n",
      "4. timestamp \n",
      "\n",
      "Data type: int64\n",
      "Number of distinct values: 3400\n",
      "Percentage of entries null: 0.0\n",
      "Values taken on by the variable: Range: 956620800 - 1406073600 \n"
     ]
    }
   ],
   "source": [
    "# Check Data types and provide observations\n",
    "u.inspect_variable_values(df)"
   ]
  },
  {
   "cell_type": "markdown",
   "metadata": {
    "id": "z4fOE02D-sVF"
   },
   "source": [
    "#### User Id:\n",
    "\n",
    "The number of users has been narrowed down to 1540. Each user has a distinct ID in the form of a string. \n",
    "\n",
    "#### Prod Id:\n",
    "\n",
    "The recommendation system will consider 48 190 distinct products. These are given by the product IDS, which are strings.\n",
    "\n",
    "#### Rating: \n",
    "\n",
    "The Rating variable is ordinal with values from 1 to 5. The data type is a float, but should be an integer.\n",
    "\n",
    "#### Timestamp:\n",
    "\n",
    "There are 4600 distinct timestamps. These are given in the Unix time format, with integer data type. The time_stamps are not relevant for a training the algorithms. They can be useful for ensuring that more recent ratings are given higher weight."
   ]
  },
  {
   "cell_type": "code",
   "outputs": [
    {
     "ename": "KeyError",
     "evalue": "\"['timestamp'] not found in axis\"",
     "output_type": "error",
     "traceback": [
      "\u001B[1;31m---------------------------------------------------------------------------\u001B[0m",
      "\u001B[1;31mKeyError\u001B[0m                                  Traceback (most recent call last)",
      "Cell \u001B[1;32mIn[137], line 2\u001B[0m\n\u001B[0;32m      1\u001B[0m \u001B[38;5;66;03m# drop the timestamp column since it is uneccessary\u001B[39;00m\n\u001B[1;32m----> 2\u001B[0m df \u001B[38;5;241m=\u001B[39m \u001B[43mdf\u001B[49m\u001B[38;5;241;43m.\u001B[39;49m\u001B[43mdrop\u001B[49m\u001B[43m(\u001B[49m\u001B[43mcolumns\u001B[49m\u001B[38;5;241;43m=\u001B[39;49m\u001B[38;5;124;43m'\u001B[39;49m\u001B[38;5;124;43mtimestamp\u001B[39;49m\u001B[38;5;124;43m'\u001B[39;49m\u001B[43m)\u001B[49m\n",
      "File \u001B[1;32mC:\\ProgramData\\anaconda3\\envs\\mlenv\\lib\\site-packages\\pandas\\core\\frame.py:5344\u001B[0m, in \u001B[0;36mDataFrame.drop\u001B[1;34m(self, labels, axis, index, columns, level, inplace, errors)\u001B[0m\n\u001B[0;32m   5196\u001B[0m \u001B[38;5;28;01mdef\u001B[39;00m \u001B[38;5;21mdrop\u001B[39m(\n\u001B[0;32m   5197\u001B[0m     \u001B[38;5;28mself\u001B[39m,\n\u001B[0;32m   5198\u001B[0m     labels: IndexLabel \u001B[38;5;241m|\u001B[39m \u001B[38;5;28;01mNone\u001B[39;00m \u001B[38;5;241m=\u001B[39m \u001B[38;5;28;01mNone\u001B[39;00m,\n\u001B[1;32m   (...)\u001B[0m\n\u001B[0;32m   5205\u001B[0m     errors: IgnoreRaise \u001B[38;5;241m=\u001B[39m \u001B[38;5;124m\"\u001B[39m\u001B[38;5;124mraise\u001B[39m\u001B[38;5;124m\"\u001B[39m,\n\u001B[0;32m   5206\u001B[0m ) \u001B[38;5;241m-\u001B[39m\u001B[38;5;241m>\u001B[39m DataFrame \u001B[38;5;241m|\u001B[39m \u001B[38;5;28;01mNone\u001B[39;00m:\n\u001B[0;32m   5207\u001B[0m \u001B[38;5;250m    \u001B[39m\u001B[38;5;124;03m\"\"\"\u001B[39;00m\n\u001B[0;32m   5208\u001B[0m \u001B[38;5;124;03m    Drop specified labels from rows or columns.\u001B[39;00m\n\u001B[0;32m   5209\u001B[0m \n\u001B[1;32m   (...)\u001B[0m\n\u001B[0;32m   5342\u001B[0m \u001B[38;5;124;03m            weight  1.0     0.8\u001B[39;00m\n\u001B[0;32m   5343\u001B[0m \u001B[38;5;124;03m    \"\"\"\u001B[39;00m\n\u001B[1;32m-> 5344\u001B[0m     \u001B[38;5;28;01mreturn\u001B[39;00m \u001B[38;5;28;43msuper\u001B[39;49m\u001B[43m(\u001B[49m\u001B[43m)\u001B[49m\u001B[38;5;241;43m.\u001B[39;49m\u001B[43mdrop\u001B[49m\u001B[43m(\u001B[49m\n\u001B[0;32m   5345\u001B[0m \u001B[43m        \u001B[49m\u001B[43mlabels\u001B[49m\u001B[38;5;241;43m=\u001B[39;49m\u001B[43mlabels\u001B[49m\u001B[43m,\u001B[49m\n\u001B[0;32m   5346\u001B[0m \u001B[43m        \u001B[49m\u001B[43maxis\u001B[49m\u001B[38;5;241;43m=\u001B[39;49m\u001B[43maxis\u001B[49m\u001B[43m,\u001B[49m\n\u001B[0;32m   5347\u001B[0m \u001B[43m        \u001B[49m\u001B[43mindex\u001B[49m\u001B[38;5;241;43m=\u001B[39;49m\u001B[43mindex\u001B[49m\u001B[43m,\u001B[49m\n\u001B[0;32m   5348\u001B[0m \u001B[43m        \u001B[49m\u001B[43mcolumns\u001B[49m\u001B[38;5;241;43m=\u001B[39;49m\u001B[43mcolumns\u001B[49m\u001B[43m,\u001B[49m\n\u001B[0;32m   5349\u001B[0m \u001B[43m        \u001B[49m\u001B[43mlevel\u001B[49m\u001B[38;5;241;43m=\u001B[39;49m\u001B[43mlevel\u001B[49m\u001B[43m,\u001B[49m\n\u001B[0;32m   5350\u001B[0m \u001B[43m        \u001B[49m\u001B[43minplace\u001B[49m\u001B[38;5;241;43m=\u001B[39;49m\u001B[43minplace\u001B[49m\u001B[43m,\u001B[49m\n\u001B[0;32m   5351\u001B[0m \u001B[43m        \u001B[49m\u001B[43merrors\u001B[49m\u001B[38;5;241;43m=\u001B[39;49m\u001B[43merrors\u001B[49m\u001B[43m,\u001B[49m\n\u001B[0;32m   5352\u001B[0m \u001B[43m    \u001B[49m\u001B[43m)\u001B[49m\n",
      "File \u001B[1;32mC:\\ProgramData\\anaconda3\\envs\\mlenv\\lib\\site-packages\\pandas\\core\\generic.py:4711\u001B[0m, in \u001B[0;36mNDFrame.drop\u001B[1;34m(self, labels, axis, index, columns, level, inplace, errors)\u001B[0m\n\u001B[0;32m   4709\u001B[0m \u001B[38;5;28;01mfor\u001B[39;00m axis, labels \u001B[38;5;129;01min\u001B[39;00m axes\u001B[38;5;241m.\u001B[39mitems():\n\u001B[0;32m   4710\u001B[0m     \u001B[38;5;28;01mif\u001B[39;00m labels \u001B[38;5;129;01mis\u001B[39;00m \u001B[38;5;129;01mnot\u001B[39;00m \u001B[38;5;28;01mNone\u001B[39;00m:\n\u001B[1;32m-> 4711\u001B[0m         obj \u001B[38;5;241m=\u001B[39m \u001B[43mobj\u001B[49m\u001B[38;5;241;43m.\u001B[39;49m\u001B[43m_drop_axis\u001B[49m\u001B[43m(\u001B[49m\u001B[43mlabels\u001B[49m\u001B[43m,\u001B[49m\u001B[43m \u001B[49m\u001B[43maxis\u001B[49m\u001B[43m,\u001B[49m\u001B[43m \u001B[49m\u001B[43mlevel\u001B[49m\u001B[38;5;241;43m=\u001B[39;49m\u001B[43mlevel\u001B[49m\u001B[43m,\u001B[49m\u001B[43m \u001B[49m\u001B[43merrors\u001B[49m\u001B[38;5;241;43m=\u001B[39;49m\u001B[43merrors\u001B[49m\u001B[43m)\u001B[49m\n\u001B[0;32m   4713\u001B[0m \u001B[38;5;28;01mif\u001B[39;00m inplace:\n\u001B[0;32m   4714\u001B[0m     \u001B[38;5;28mself\u001B[39m\u001B[38;5;241m.\u001B[39m_update_inplace(obj)\n",
      "File \u001B[1;32mC:\\ProgramData\\anaconda3\\envs\\mlenv\\lib\\site-packages\\pandas\\core\\generic.py:4753\u001B[0m, in \u001B[0;36mNDFrame._drop_axis\u001B[1;34m(self, labels, axis, level, errors, only_slice)\u001B[0m\n\u001B[0;32m   4751\u001B[0m         new_axis \u001B[38;5;241m=\u001B[39m axis\u001B[38;5;241m.\u001B[39mdrop(labels, level\u001B[38;5;241m=\u001B[39mlevel, errors\u001B[38;5;241m=\u001B[39merrors)\n\u001B[0;32m   4752\u001B[0m     \u001B[38;5;28;01melse\u001B[39;00m:\n\u001B[1;32m-> 4753\u001B[0m         new_axis \u001B[38;5;241m=\u001B[39m \u001B[43maxis\u001B[49m\u001B[38;5;241;43m.\u001B[39;49m\u001B[43mdrop\u001B[49m\u001B[43m(\u001B[49m\u001B[43mlabels\u001B[49m\u001B[43m,\u001B[49m\u001B[43m \u001B[49m\u001B[43merrors\u001B[49m\u001B[38;5;241;43m=\u001B[39;49m\u001B[43merrors\u001B[49m\u001B[43m)\u001B[49m\n\u001B[0;32m   4754\u001B[0m     indexer \u001B[38;5;241m=\u001B[39m axis\u001B[38;5;241m.\u001B[39mget_indexer(new_axis)\n\u001B[0;32m   4756\u001B[0m \u001B[38;5;66;03m# Case for non-unique axis\u001B[39;00m\n\u001B[0;32m   4757\u001B[0m \u001B[38;5;28;01melse\u001B[39;00m:\n",
      "File \u001B[1;32mC:\\ProgramData\\anaconda3\\envs\\mlenv\\lib\\site-packages\\pandas\\core\\indexes\\base.py:7000\u001B[0m, in \u001B[0;36mIndex.drop\u001B[1;34m(self, labels, errors)\u001B[0m\n\u001B[0;32m   6998\u001B[0m \u001B[38;5;28;01mif\u001B[39;00m mask\u001B[38;5;241m.\u001B[39many():\n\u001B[0;32m   6999\u001B[0m     \u001B[38;5;28;01mif\u001B[39;00m errors \u001B[38;5;241m!=\u001B[39m \u001B[38;5;124m\"\u001B[39m\u001B[38;5;124mignore\u001B[39m\u001B[38;5;124m\"\u001B[39m:\n\u001B[1;32m-> 7000\u001B[0m         \u001B[38;5;28;01mraise\u001B[39;00m \u001B[38;5;167;01mKeyError\u001B[39;00m(\u001B[38;5;124mf\u001B[39m\u001B[38;5;124m\"\u001B[39m\u001B[38;5;132;01m{\u001B[39;00mlabels[mask]\u001B[38;5;241m.\u001B[39mtolist()\u001B[38;5;132;01m}\u001B[39;00m\u001B[38;5;124m not found in axis\u001B[39m\u001B[38;5;124m\"\u001B[39m)\n\u001B[0;32m   7001\u001B[0m     indexer \u001B[38;5;241m=\u001B[39m indexer[\u001B[38;5;241m~\u001B[39mmask]\n\u001B[0;32m   7002\u001B[0m \u001B[38;5;28;01mreturn\u001B[39;00m \u001B[38;5;28mself\u001B[39m\u001B[38;5;241m.\u001B[39mdelete(indexer)\n",
      "\u001B[1;31mKeyError\u001B[0m: \"['timestamp'] not found in axis\""
     ]
    }
   ],
   "source": [
    "# drop the timestamp column since it is uneccessary\n",
    "df = df.drop(columns='timestamp')"
   ],
   "metadata": {
    "collapsed": false,
    "ExecuteTime": {
     "end_time": "2024-09-23T09:43:35.052552Z",
     "start_time": "2024-09-23T09:43:33.036255Z"
    }
   },
   "execution_count": 137
  },
  {
   "cell_type": "markdown",
   "metadata": {
    "id": "lTMpOROT-sVG"
   },
   "source": [
    "### **Checking for missing values**"
   ]
  },
  {
   "cell_type": "code",
   "execution_count": 138,
   "metadata": {
    "id": "vt-VEjMA5JtQ",
    "ExecuteTime": {
     "end_time": "2024-09-23T09:43:41.419887Z",
     "start_time": "2024-09-23T09:43:41.389567Z"
    }
   },
   "outputs": [
    {
     "data": {
      "text/plain": "user_id    0\nprod_id    0\nrating     0\ndtype: int64"
     },
     "execution_count": 138,
     "metadata": {},
     "output_type": "execute_result"
    }
   ],
   "source": [
    "# Check for missing values present and provide observations\n",
    "df.isnull().sum()"
   ]
  },
  {
   "cell_type": "markdown",
   "metadata": {
    "id": "qMWuBNhI5JtR"
   },
   "source": [
    "None of the columns have any null values."
   ]
  },
  {
   "cell_type": "markdown",
   "metadata": {
    "id": "wETrCg48-sVG"
   },
   "source": [
    "### **Summary Statistics**"
   ]
  },
  {
   "cell_type": "markdown",
   "source": [
    "## Univariate Analysis"
   ],
   "metadata": {
    "collapsed": false
   }
  },
  {
   "cell_type": "code",
   "outputs": [
    {
     "data": {
      "text/plain": "<Figure size 1000x300 with 2 Axes>",
      "image/png": "[encoded data removed]"
     },
     "metadata": {},
     "output_type": "display_data"
    },
    {
     "name": "stdout",
     "output_type": "stream",
     "text": [
      "Summary statistics for the rating variable \n",
      "\n",
      "count    65290.000000\n",
      "mean         4.294808\n",
      "std          0.988915\n",
      "min          1.000000\n",
      "25%          4.000000\n",
      "50%          5.000000\n",
      "75%          5.000000\n",
      "max          5.000000\n",
      "Name: rating, dtype: float64 \n"
     ]
    }
   ],
   "source": [
    "# numerical summary statistic for the rating variable\n",
    "u.analyze_numerical_features(df, ['rating'])"
   ],
   "metadata": {
    "collapsed": false,
    "ExecuteTime": {
     "end_time": "2024-09-23T09:43:46.930863Z",
     "start_time": "2024-09-23T09:43:45.988003Z"
    }
   },
   "execution_count": 139
  },
  {
   "cell_type": "markdown",
   "metadata": {
    "id": "VqW50EIJxhXc"
   },
   "source": [
    "The distribution of ratings is skewed left with a mean rating of 4.26. 75% of observations receive a rating of either 4 or 5. "
   ]
  },
  {
   "cell_type": "markdown",
   "metadata": {
    "id": "ywyFrZIf5JtR"
   },
   "source": [
    "### **Checking the rating distribution**"
   ]
  },
  {
   "cell_type": "code",
   "execution_count": 140,
   "metadata": {
    "id": "QbqhbEVe-sVH",
    "ExecuteTime": {
     "end_time": "2024-09-23T09:43:56.605407Z",
     "start_time": "2024-09-23T09:43:56.337192Z"
    }
   },
   "outputs": [
    {
     "name": "stdout",
     "output_type": "stream",
     "text": [
      "1. Analysis for rating: \n"
     ]
    },
    {
     "data": {
      "text/plain": "<Figure size 1000x500 with 1 Axes>",
      "image/png": "[encoded data removed]"
     },
     "metadata": {},
     "output_type": "display_data"
    },
    {
     "name": "stdout",
     "output_type": "stream",
     "text": [
      "rating\n",
      "5.0    0.556211\n",
      "4.0    0.277638\n",
      "3.0    0.099265\n",
      "2.0    0.038520\n",
      "1.0    0.028366\n",
      "Name: proportion, dtype: float64 \n"
     ]
    }
   ],
   "source": [
    "# Create the bar plot and provide observations\n",
    "# categorical perspective of the rating variable\n",
    "u.analyze_categorical_features(df, ['rating'])"
   ]
  },
  {
   "cell_type": "markdown",
   "metadata": {
    "id": "t0jONrQv-sVH"
   },
   "source": [
    "The barchart shows that the majority (~56%) of observations receive a rating of 5. ~25% of observations receive a rating of 4 and ~9.5% of obervations receive a rating of 3. The observations which have received ratings of 2 (~4%) and 1 (~4%) account for less than 10% of observations.\n",
    "\n",
    "More than 90% of observations receive ratings between 3 and 5. Furthermore, >75% of observations receive ratings of 4 or 5. "
   ]
  },
  {
   "cell_type": "markdown",
   "metadata": {
    "id": "HefpLdLJxhXd"
   },
   "source": [
    "### **Checking the number of unique users and items in the dataset**"
   ]
  },
  {
   "cell_type": "code",
   "execution_count": 141,
   "metadata": {
    "id": "NbSom7195JtR",
    "ExecuteTime": {
     "end_time": "2024-09-23T09:44:16.305087Z",
     "start_time": "2024-09-23T09:44:16.270573Z"
    }
   },
   "outputs": [
    {
     "name": "stdout",
     "output_type": "stream",
     "text": [
      "Total rows in the dataset: 65290\n",
      "Number of unique users: 1540\n",
      "Number of unique products: 5689\n"
     ]
    }
   ],
   "source": [
    "# Number of total rows in the data and number of unique user id and product id in the data\n",
    "print(f\"Total rows in the dataset: {df.shape[0]}\")\n",
    "print(f\"Number of unique users: {df['user_id'].nunique()}\")\n",
    "print(f\"Number of unique products: {df['prod_id'].nunique()}\")\n",
    "#u.inspect_variable_values(df[['user_id', 'prod_id']])"
   ]
  },
  {
   "cell_type": "markdown",
   "metadata": {
    "id": "Qwgz6CUt-sVI"
   },
   "source": [
    "The dataset comprises of 1540 unique users and 5689 unique products."
   ]
  },
  {
   "cell_type": "markdown",
   "metadata": {
    "id": "RfDnhSS4-sVI"
   },
   "source": [
    "### **Users with the most number of ratings**"
   ]
  },
  {
   "cell_type": "code",
   "execution_count": 142,
   "metadata": {
    "id": "n7MX452q5JtR",
    "ExecuteTime": {
     "end_time": "2024-09-23T09:45:39.407579Z",
     "start_time": "2024-09-23T09:45:39.377127Z"
    }
   },
   "outputs": [
    {
     "data": {
      "text/plain": "user_id\nADLVFFE4VBT8      295\nA3OXHLG6DIBRW8    230\nA1ODOGXEYECQQ8    217\nA36K2N527TXXJN    212\nA25C2M3QF9G7OQ    203\nA680RUE1FDO8B     196\nA22CW0ZHY3NJH8    193\nA1UQBFCERIP7VJ    193\nAWPODHOB4GFWL     184\nA3LGT6UZL99IW1    179\nName: rating, dtype: int64"
     },
     "execution_count": 142,
     "metadata": {},
     "output_type": "execute_result"
    }
   ],
   "source": [
    "# Top 10 users based on the number of ratings\n",
    "\n",
    "# group the users by number of ratings\n",
    "user_ratings = df.groupby('user_id')['rating'].count()\n",
    "\n",
    "# sort the resulting series\n",
    "user_ratings.sort_values(ascending=False, inplace=True)\n",
    "\n",
    "# view the top ten\n",
    "user_ratings.head(10)"
   ]
  },
  {
   "cell_type": "code",
   "outputs": [
    {
     "data": {
      "text/plain": "count    1540.000000\nmean       42.396104\nstd        30.558505\nmin         1.000000\n25%        23.000000\n50%        34.000000\n75%        52.000000\nmax       295.000000\nName: rating, dtype: float64"
     },
     "execution_count": 143,
     "metadata": {},
     "output_type": "execute_result"
    }
   ],
   "source": [
    "user_ratings.describe()"
   ],
   "metadata": {
    "collapsed": false,
    "ExecuteTime": {
     "end_time": "2024-09-23T09:46:39.264612Z",
     "start_time": "2024-09-23T09:46:39.244381Z"
    }
   },
   "execution_count": 143
  },
  {
   "cell_type": "code",
   "outputs": [],
   "source": [
    "# convert the data into a dataframe for plotting\n",
    "user_purchases_counts: pd.DataFrame = pd.DataFrame({\n",
    "    'count_of_purchases': user_ratings\n",
    "})"
   ],
   "metadata": {
    "collapsed": false,
    "ExecuteTime": {
     "end_time": "2024-09-23T09:49:05.857270Z",
     "start_time": "2024-09-23T09:49:05.844642Z"
    }
   },
   "execution_count": 144
  },
  {
   "cell_type": "code",
   "outputs": [
    {
     "data": {
      "text/plain": "<Axes: xlabel='count_of_purchases'>"
     },
     "execution_count": 146,
     "metadata": {},
     "output_type": "execute_result"
    },
    {
     "data": {
      "text/plain": "<Figure size 640x480 with 1 Axes>",
      "image/png": "[encoded data removed]"
     },
     "metadata": {},
     "output_type": "display_data"
    }
   ],
   "source": [
    "# boxplot of the number of purchases per user\n",
    "sns.boxplot(data=user_purchases_counts, x='count_of_purchases')"
   ],
   "metadata": {
    "collapsed": false,
    "ExecuteTime": {
     "end_time": "2024-09-23T09:49:42.168776Z",
     "start_time": "2024-09-23T09:49:41.922662Z"
    }
   },
   "execution_count": 146
  },
  {
   "cell_type": "markdown",
   "metadata": {
    "id": "1X2w_jt9-sVI"
   },
   "source": [
    "The mean number of purchases is 42. The median number of purchases is 34, with 50% of users purchasing between 23 and 52 products. 75% of users purchase less than 52 products. The data is skewed right with a number of outliers purchasing above 100 products. The maximum number of purchases by a single user is 295."
   ]
  },
  {
   "cell_type": "markdown",
   "metadata": {
    "id": "EnYTx-Ol-sVg"
   },
   "source": [
    "**Now that we have explored and prepared the data, let's build the first recommendation system.**"
   ]
  },
  {
   "cell_type": "markdown",
   "metadata": {
    "id": "6xYGrGVy5JtS"
   },
   "source": [
    "## **Model 1: Rank Based Recommendation System**"
   ]
  },
  {
   "cell_type": "code",
   "execution_count": 147,
   "metadata": {
    "collapsed": false,
    "ExecuteTime": {
     "end_time": "2024-09-23T09:53:50.406595Z",
     "start_time": "2024-09-23T09:53:50.375495Z"
    }
   },
   "outputs": [
    {
     "data": {
      "text/plain": "                mean  count\nprod_id                    \n1400501466  3.333333      6\n1400532655  3.833333      6\n1400599997  4.000000      5\n9983891212  4.875000      8\nB00000DM9W  5.000000      5\n...              ...    ...\nB00L21HC7A  4.625000     16\nB00L2442H0  4.916667     12\nB00L26YDA4  4.384615     13\nB00L3YHF6O  5.000000     14\nB00LGQ6HL8  5.000000      5\n\n[5689 rows x 2 columns]",
      "text/html": "<div>\n<style scoped>\n    .dataframe tbody tr th:only-of-type {\n        vertical-align: middle;\n    }\n\n    .dataframe tbody tr th {\n        vertical-align: top;\n    }\n\n    .dataframe thead th {\n        text-align: right;\n    }\n</style>\n<table border=\"1\" class=\"dataframe\">\n  <thead>\n    <tr style=\"text-align: right;\">\n      <th></th>\n      <th>mean</th>\n      <th>count</th>\n    </tr>\n    <tr>\n      <th>prod_id</th>\n      <th></th>\n      <th></th>\n    </tr>\n  </thead>\n  <tbody>\n    <tr>\n      <th>1400501466</th>\n      <td>3.333333</td>\n      <td>6</td>\n    </tr>\n    <tr>\n      <th>1400532655</th>\n      <td>3.833333</td>\n      <td>6</td>\n    </tr>\n    <tr>\n      <th>1400599997</th>\n      <td>4.000000</td>\n      <td>5</td>\n    </tr>\n    <tr>\n      <th>9983891212</th>\n      <td>4.875000</td>\n      <td>8</td>\n    </tr>\n    <tr>\n      <th>B00000DM9W</th>\n      <td>5.000000</td>\n      <td>5</td>\n    </tr>\n    <tr>\n      <th>...</th>\n      <td>...</td>\n      <td>...</td>\n    </tr>\n    <tr>\n      <th>B00L21HC7A</th>\n      <td>4.625000</td>\n      <td>16</td>\n    </tr>\n    <tr>\n      <th>B00L2442H0</th>\n      <td>4.916667</td>\n      <td>12</td>\n    </tr>\n    <tr>\n      <th>B00L26YDA4</th>\n      <td>4.384615</td>\n      <td>13</td>\n    </tr>\n    <tr>\n      <th>B00L3YHF6O</th>\n      <td>5.000000</td>\n      <td>14</td>\n    </tr>\n    <tr>\n      <th>B00LGQ6HL8</th>\n      <td>5.000000</td>\n      <td>5</td>\n    </tr>\n  </tbody>\n</table>\n<p>5689 rows × 2 columns</p>\n</div>"
     },
     "execution_count": 147,
     "metadata": {},
     "output_type": "execute_result"
    }
   ],
   "source": [
    "# Calculate the average rating for each product and count of ratings for each product\n",
    "# Create a dataframe with calculated average and count of ratings\n",
    "# the result is already a dataframe\n",
    "prod_stats = df.groupby('prod_id')['rating'].agg(['mean', 'count'])\n",
    "prod_stats"
   ]
  },
  {
   "cell_type": "code",
   "outputs": [
    {
     "data": {
      "text/plain": "            mean  count\nprod_id                \nB00LGQ6HL8   5.0      5\nB003DZJQQI   5.0     14\nB005FDXF2C   5.0      7\nB00I6CVPVC   5.0      7\nB00B9KOCYA   5.0      8",
      "text/html": "<div>\n<style scoped>\n    .dataframe tbody tr th:only-of-type {\n        vertical-align: middle;\n    }\n\n    .dataframe tbody tr th {\n        vertical-align: top;\n    }\n\n    .dataframe thead th {\n        text-align: right;\n    }\n</style>\n<table border=\"1\" class=\"dataframe\">\n  <thead>\n    <tr style=\"text-align: right;\">\n      <th></th>\n      <th>mean</th>\n      <th>count</th>\n    </tr>\n    <tr>\n      <th>prod_id</th>\n      <th></th>\n      <th></th>\n    </tr>\n  </thead>\n  <tbody>\n    <tr>\n      <th>B00LGQ6HL8</th>\n      <td>5.0</td>\n      <td>5</td>\n    </tr>\n    <tr>\n      <th>B003DZJQQI</th>\n      <td>5.0</td>\n      <td>14</td>\n    </tr>\n    <tr>\n      <th>B005FDXF2C</th>\n      <td>5.0</td>\n      <td>7</td>\n    </tr>\n    <tr>\n      <th>B00I6CVPVC</th>\n      <td>5.0</td>\n      <td>7</td>\n    </tr>\n    <tr>\n      <th>B00B9KOCYA</th>\n      <td>5.0</td>\n      <td>8</td>\n    </tr>\n  </tbody>\n</table>\n</div>"
     },
     "execution_count": 148,
     "metadata": {},
     "output_type": "execute_result"
    }
   ],
   "source": [
    "# Sort the dataframe by average of ratings in the descending order\n",
    "final_rating = prod_stats.sort_values(by='mean', ascending=False)\n",
    "\n",
    "# See the first five records of the \"final_rating\" dataset\n",
    "final_rating.head()"
   ],
   "metadata": {
    "id": "yxZTj1UPxhXh",
    "scrolled": true,
    "ExecuteTime": {
     "end_time": "2024-09-23T09:53:52.676064Z",
     "start_time": "2024-09-23T09:53:52.656457Z"
    }
   },
   "execution_count": 148
  },
  {
   "cell_type": "code",
   "execution_count": 149,
   "metadata": {
    "collapsed": false,
    "ExecuteTime": {
     "end_time": "2024-09-23T09:53:55.730547Z",
     "start_time": "2024-09-23T09:53:55.717541Z"
    }
   },
   "outputs": [],
   "source": [
    "# Defining a function to get the top n products based on the highest average rating and minimum interactions\n",
    "def get_top_n(data: pd.DataFrame, n, min_int: int):\n",
    "    \n",
    "    # copy the dataframe\n",
    "    data_sorted = data.copy()\n",
    "    \n",
    "    # get a list of the columns\n",
    "    cols = data.columns.tolist()\n",
    "    \n",
    "    # ensure that the dataframe has the 'mean' and 'count' columns\n",
    "    if 'mean' not in cols and 'count' not in cols:\n",
    "        raise ValueError('Columns must have mean or count for rank-based recommendation')\n",
    "\n",
    "    # get all data with count > min_int, and return the values inside its index\n",
    "    data_sorted = data.loc[data['count'] > min_int, :][:n].index.values\n",
    "    \n",
    "    return data_sorted"
   ]
  },
  {
   "cell_type": "markdown",
   "metadata": {
    "id": "F8l6373PxhXi"
   },
   "source": [
    "### **Recommending top 5 products with 50 minimum interactions based on popularity**"
   ]
  },
  {
   "cell_type": "code",
   "execution_count": 150,
   "metadata": {
    "id": "dBxdLiM_xhXi",
    "ExecuteTime": {
     "end_time": "2024-09-23T09:57:29.154392Z",
     "start_time": "2024-09-23T09:57:29.131887Z"
    }
   },
   "outputs": [],
   "source": [
    "# get the recommendations\n",
    "recomms = get_top_n(final_rating, 5, 50)"
   ]
  },
  {
   "cell_type": "code",
   "outputs": [
    {
     "name": "stdout",
     "output_type": "stream",
     "text": [
      "mean      4.871795\n",
      "count    78.000000\n",
      "Name: B001TH7GUU, dtype: float64\n",
      "mean       4.86413\n",
      "count    184.00000\n",
      "Name: B003ES5ZUU, dtype: float64\n",
      "mean      4.855556\n",
      "count    90.000000\n",
      "Name: B0019EHU8G, dtype: float64\n",
      "mean      4.824561\n",
      "count    57.000000\n",
      "Name: B006W8U2MU, dtype: float64\n",
      "mean      4.809524\n",
      "count    84.000000\n",
      "Name: B000QUUFRW, dtype: float64\n"
     ]
    }
   ],
   "source": [
    "# inspect the results of the algorithm\n",
    "for prod in recomms:\n",
    "    print(final_rating.loc[prod, :])"
   ],
   "metadata": {
    "collapsed": false,
    "ExecuteTime": {
     "end_time": "2024-09-23T09:58:01.039556Z",
     "start_time": "2024-09-23T09:58:01.025565Z"
    }
   },
   "execution_count": 152
  },
  {
   "cell_type": "markdown",
   "metadata": {
    "id": "l9_xW_UMxhXj"
   },
   "source": [
    "### **Recommending top 5 products with 100 minimum interactions based on popularity**"
   ]
  },
  {
   "cell_type": "code",
   "execution_count": 153,
   "metadata": {
    "id": "dZgGZCUoxhXj",
    "ExecuteTime": {
     "end_time": "2024-09-23T09:58:24.057878Z",
     "start_time": "2024-09-23T09:58:24.044871Z"
    }
   },
   "outputs": [
    {
     "data": {
      "text/plain": "array(['B003ES5ZUU', 'B000N99BBC', 'B007WTAJTO', 'B002V88HFE',\n       'B004CLYEDC'], dtype=object)"
     },
     "execution_count": 153,
     "metadata": {},
     "output_type": "execute_result"
    }
   ],
   "source": [
    "# call to get_top_n, with min_n set to 100\n",
    "get_top_n(final_rating, 5, 100)"
   ]
  },
  {
   "cell_type": "markdown",
   "metadata": {
    "id": "BL-m68a15JtT",
    "outputId": "69132b0f-8d3f-4798-f6a0-249e17a3c822"
   },
   "source": [
    "We have recommended the **top 5** products by using the popularity recommendation system. Now, let's build a recommendation system using **collaborative filtering.**"
   ]
  },
  {
   "cell_type": "markdown",
   "metadata": {
    "id": "sJI5kiiGvOOK"
   },
   "source": [
    "## **Model 2: Collaborative Filtering Recommendation System**"
   ]
  },
  {
   "cell_type": "markdown",
   "metadata": {
    "id": "skzc0N1_nVNB"
   },
   "source": [
    "### **Building a baseline user-user similarity based recommendation system**"
   ]
  },
  {
   "cell_type": "markdown",
   "metadata": {
    "id": "d4Uo_MYMnVNB"
   },
   "source": [
    "- Below, we are building **similarity-based recommendation systems** using `cosine` similarity and using **KNN to find similar users** which are the nearest neighbor to the given user.  \n",
    "- We will be using a new library, called `surprise`, to build the remaining models. Let's first import the necessary classes and functions from this library."
   ]
  },
  {
   "cell_type": "code",
   "execution_count": 154,
   "metadata": {
    "id": "UJ1wEylUpexj",
    "ExecuteTime": {
     "end_time": "2024-09-23T09:58:37.382183Z",
     "start_time": "2024-09-23T09:58:37.367180Z"
    }
   },
   "outputs": [],
   "source": [
    "# To compute the accuracy of models\n",
    "from surprise import accuracy\n",
    "\n",
    "# Class is used to parse a file containing ratings, data should be in structure - user ; item ; rating\n",
    "from surprise.reader import Reader\n",
    "\n",
    "# Class for loading datasets\n",
    "from surprise.dataset import Dataset\n",
    "\n",
    "# For tuning model hyperparameters\n",
    "from surprise.model_selection import GridSearchCV\n",
    "\n",
    "# For splitting the rating data in train and test datasets\n",
    "from surprise.model_selection import train_test_split\n",
    "\n",
    "# For implementing similarity-based recommendation system\n",
    "from surprise.prediction_algorithms.knns import KNNBasic\n",
    "\n",
    "# For implementing matrix factorization based recommendation system\n",
    "from surprise.prediction_algorithms.matrix_factorization import SVD\n",
    "\n",
    "# for implementing K-Fold cross-validation\n",
    "from surprise.model_selection import KFold\n",
    "\n",
    "# For implementing clustering-based recommendation system\n",
    "from surprise import CoClustering"
   ]
  },
  {
   "cell_type": "markdown",
   "metadata": {
    "id": "54MqVAtDTsnl"
   },
   "source": [
    "**Before building the recommendation systems, let's  go over some basic terminologies we are going to use:**"
   ]
  },
  {
   "cell_type": "markdown",
   "metadata": {
    "id": "Qsxb3xhnTsnl"
   },
   "source": [
    "**Relevant item:** An item (product in this case) that is actually **rated higher than the threshold rating** is relevant, if the **actual rating is below the threshold then it is a non-relevant item**.  \n",
    "\n",
    "**Recommended item:** An item that's **predicted rating is higher than the threshold is a recommended item**, if the **predicted rating is below the threshold then that product will not be recommended to the user**.  \n"
   ]
  },
  {
   "cell_type": "markdown",
   "metadata": {
    "id": "moyLUHCuTsnl"
   },
   "source": [
    "**False Negative (FN):** It is the **frequency of relevant items that are not recommended to the user**. If the relevant items are not recommended to the user, then the user might not buy the product/item. This would result in the **loss of opportunity for the service provider**, which they would like to minimize.\n",
    "\n",
    "**False Positive (FP):** It is the **frequency of recommended items that are actually not relevant**. In this case, the recommendation system is not doing a good job of finding and recommending the relevant items to the user. This would result in **loss of resources for the service provider**, which they would also like to minimize."
   ]
  },
  {
   "cell_type": "markdown",
   "metadata": {
    "id": "Yuvc2VaZTsnl"
   },
   "source": [
    "**Recall:** It is the **fraction of actually relevant items that are recommended to the user**, i.e., if out of 10 relevant products, 6 are recommended to the user then recall is 0.60. Higher the value of recall better is the model. It is one of the metrics to do the performance assessment of classification models.\n",
    "\n",
    "**Precision:** It is the **fraction of recommended items that are relevant actually**, i.e., if out of 10 recommended items, 6 are found relevant by the user then precision is 0.60. The higher the value of precision better is the model. It is one of the metrics to do the performance assessment of classification models."
   ]
  },
  {
   "cell_type": "markdown",
   "metadata": {
    "id": "8NLc36Y8Tsnm"
   },
   "source": [
    "**While making a recommendation system, it becomes customary to look at the performance of the model. In terms of how many recommendations are relevant and vice-versa, below are some most used performance metrics used in the assessment of recommendation systems.**"
   ]
  },
  {
   "cell_type": "markdown",
   "metadata": {
    "id": "cqF8fRBqTsnm"
   },
   "source": [
    "### **Precision@k, Recall@ k, and F1-score@k**"
   ]
  },
  {
   "cell_type": "markdown",
   "metadata": {
    "id": "imMJNF0HTsnm"
   },
   "source": [
    "**Precision@k** - It is the **fraction of recommended items that are relevant in `top k` predictions**. The value of k is the number of recommendations to be provided to the user. One can choose a variable number of recommendations to be given to a unique user.  \n",
    "\n",
    "\n",
    "**Recall@k** - It is the **fraction of relevant items that are recommended to the user in `top k` predictions**.\n",
    "\n",
    "**F1-score@k** - It is the **harmonic mean of Precision@k and Recall@k**. When **precision@k and recall@k both seem to be important** then it is useful to use this metric because it is representative of both of them. "
   ]
  },
  {
   "cell_type": "markdown",
   "metadata": {
    "id": "jBW4BUhWTsnm"
   },
   "source": [
    "### **Some useful functions**"
   ]
  },
  {
   "cell_type": "markdown",
   "metadata": {
    "id": "QOBHKh0eTsnm"
   },
   "source": [
    "- Below function takes the **recommendation model** as input and gives the **precision@k, recall@k, and F1-score@k** for that model.  \n",
    "- To compute **precision and recall**, **top k** predictions are taken under consideration for each user.\n",
    "- We will use the precision and recall to compute the F1-score."
   ]
  },
  {
   "cell_type": "code",
   "execution_count": 268,
   "metadata": {
    "id": "Rxn-GahOTsnm",
    "ExecuteTime": {
     "end_time": "2024-09-23T12:04:30.568218Z",
     "start_time": "2024-09-23T12:04:30.534620Z"
    }
   },
   "outputs": [],
   "source": [
    "# function to measure the precision and recall of the model\n",
    "def precision_recall_at_k(model, k = 10, threshold = 3.5, model_fallback=None):\n",
    "    \"\"\"Return precision and recall at k metrics for each user\"\"\"\n",
    "\n",
    "    # First map the predictions to each user\n",
    "    # make a dict, keys - users\n",
    "    # values - list of estimate prediction, true prediction tuples\n",
    "    user_est_true: dict[str, list] = defaultdict(list)\n",
    "    \n",
    "    # estimate all ratings on the given dataset\n",
    "    # Making predictions on the test data\n",
    "    predictions: list = model.test(testset)\n",
    "    \n",
    "    # if we have a fallback model\n",
    "    if model_fallback:\n",
    "        \n",
    "        # get the fall_back model predictions\n",
    "        fallback_predictions: list = model_fallback.test(testset)\n",
    "        \n",
    "        # set the impossible prediction to the fallback prediction \n",
    "        for i in range(len(predictions)):\n",
    "            if predictions[i].details['was_impossible']:\n",
    "                predictions[i] = fallback_predictions[i]\n",
    "    \n",
    "    no_relevant_prods: list = []\n",
    "    \n",
    "    for uid, iid, true_r, est, det in predictions:\n",
    "        user_est_true[uid].append((est, true_r))\n",
    "\n",
    "    precisions = dict()\n",
    "    recalls = dict()\n",
    "    for uid, user_ratings in user_est_true.items():\n",
    "\n",
    "        # Sort user ratings by estimated value\n",
    "        user_ratings.sort(key = lambda x: x[0], reverse = True)\n",
    "\n",
    "        # Get the number of relevant items in the list\n",
    "        n_rel = sum((true_r >= threshold) for (_, true_r) in user_ratings)\n",
    "        \n",
    "        no_relevant_prods.append(n_rel)\n",
    "\n",
    "        # Number of recommended items in top k\n",
    "        n_rec_k = sum((est >= threshold) for (est, _) in user_ratings[:k])\n",
    "\n",
    "        # Number of relevant and recommended items in top k\n",
    "        n_rel_and_rec_k = sum(((true_r >= threshold) and (est >= threshold))\n",
    "                              for (est, true_r) in user_ratings[:k])\n",
    "\n",
    "        # Precision@K: Proportion of recommended items that are relevant\n",
    "        # When n_rec_k is 0, Precision is undefined. Therefore, we are setting Precision to 0 when n_rec_k is 0\n",
    "\n",
    "        precisions[uid] = n_rel_and_rec_k / n_rec_k if n_rec_k != 0 else 0\n",
    "\n",
    "        # Recall@K: Proportion of relevant items that are recommended\n",
    "        # When n_rel is 0, Recall is undefined. Therefore, we are setting Recall to 0 when n_rel is 0\n",
    "\n",
    "        recalls[uid] = n_rel_and_rec_k / n_rel if n_rel != 0 else 0\n",
    "        \n",
    "    no_relevant_prods: np.ndarray = np.array(no_relevant_prods)\n",
    "        \n",
    "    print(f\"Recommended k for testing: {no_relevant_prods.mean()}\")\n",
    "    \n",
    "    # Mean of all the predicted precisions are calculated.\n",
    "    precision = round((sum(prec for prec in precisions.values()) / len(precisions)), 3)\n",
    "    \n",
    "    # Mean of all the predicted recalls are calculated.\n",
    "    recall = round((sum(rec for rec in recalls.values()) / len(recalls)), 3)\n",
    "    \n",
    "    f1 = round((2*precision*recall)/(precision+recall), 3)\n",
    "    \n",
    "    accuracy.rmse(predictions)\n",
    "    \n",
    "    print('Precision: ', precision) # Command to print the overall precision\n",
    "    \n",
    "    print('Recall: ', recall) # Command to print the overall recall\n",
    "    \n",
    "    print('F_1 score: ', f1) # Formula to compute the F-1 score\n",
    "    \n",
    "    results: dict = {'Precision': precision, 'Recall': recall, 'F_1_score': f1}\n",
    "    \n",
    "    return results"
   ]
  },
  {
   "cell_type": "markdown",
   "metadata": {
    "id": "_ZmsamDVyek-"
   },
   "source": [
    "**Hints:**\n",
    "\n",
    "- To compute **precision and recall**, a **threshold of 3.5 and k value of 10 can be considered for the recommended and relevant ratings**.\n",
    "- Think about the performance metric to choose."
   ]
  },
  {
   "cell_type": "code",
   "outputs": [],
   "source": [
    "# initialize a dictionary to store the results of the models\n",
    "model_performances: dict = {}"
   ],
   "metadata": {
    "collapsed": false,
    "ExecuteTime": {
     "end_time": "2024-09-23T13:52:32.876414Z",
     "start_time": "2024-09-23T13:52:32.859406Z"
    }
   },
   "execution_count": 342
  },
  {
   "cell_type": "markdown",
   "metadata": {
    "id": "8hxjJMTwnVNB"
   },
   "source": [
    "Below we are loading the **`rating` dataset**, which is a **pandas DataFrame**, into a **different format called `surprise.dataset.DatasetAutoFolds`**, which is required by this library. To do this, we will be **using the classes `Reader` and `Dataset`.**"
   ]
  },
  {
   "cell_type": "markdown",
   "source": [
    "### Data Preprocessing"
   ],
   "metadata": {
    "collapsed": false
   }
  },
  {
   "cell_type": "code",
   "outputs": [
    {
     "data": {
      "text/plain": "         user_id  prod_id    user_id_init prod_id_init  rating\n1310        1050        0  A3LDPF5FMB782Z   1400501466     5.0\n1322         125        0  A1A5KUIIIHFF4U   1400501466     1.0\n1335         785        0  A2XIOXRRYX0KZY   1400501466     3.0\n1451        1495        0   AW3LX47IHPFRL   1400501466     5.0\n1456         164        0  A1E3OB6QMBKRYZ   1400501466     1.0\n...          ...      ...             ...          ...     ...\n7824423      870     5688  A34BZM6S9L7QI4   B00LGQ6HL8     5.0\n7824424      187     5688  A1G650TTTHEAL5   B00LGQ6HL8     5.0\n7824425      462     5688  A25C2M3QF9G7OQ   B00LGQ6HL8     5.0\n7824426      163     5688   A1E1LEVQ9VQNK   B00LGQ6HL8     5.0\n7824427      664     5688  A2NYK9KWFMJV4Y   B00LGQ6HL8     5.0\n\n[65290 rows x 5 columns]",
      "text/html": "<div>\n<style scoped>\n    .dataframe tbody tr th:only-of-type {\n        vertical-align: middle;\n    }\n\n    .dataframe tbody tr th {\n        vertical-align: top;\n    }\n\n    .dataframe thead th {\n        text-align: right;\n    }\n</style>\n<table border=\"1\" class=\"dataframe\">\n  <thead>\n    <tr style=\"text-align: right;\">\n      <th></th>\n      <th>user_id</th>\n      <th>prod_id</th>\n      <th>user_id_init</th>\n      <th>prod_id_init</th>\n      <th>rating</th>\n    </tr>\n  </thead>\n  <tbody>\n    <tr>\n      <th>1310</th>\n      <td>1050</td>\n      <td>0</td>\n      <td>A3LDPF5FMB782Z</td>\n      <td>1400501466</td>\n      <td>5.0</td>\n    </tr>\n    <tr>\n      <th>1322</th>\n      <td>125</td>\n      <td>0</td>\n      <td>A1A5KUIIIHFF4U</td>\n      <td>1400501466</td>\n      <td>1.0</td>\n    </tr>\n    <tr>\n      <th>1335</th>\n      <td>785</td>\n      <td>0</td>\n      <td>A2XIOXRRYX0KZY</td>\n      <td>1400501466</td>\n      <td>3.0</td>\n    </tr>\n    <tr>\n      <th>1451</th>\n      <td>1495</td>\n      <td>0</td>\n      <td>AW3LX47IHPFRL</td>\n      <td>1400501466</td>\n      <td>5.0</td>\n    </tr>\n    <tr>\n      <th>1456</th>\n      <td>164</td>\n      <td>0</td>\n      <td>A1E3OB6QMBKRYZ</td>\n      <td>1400501466</td>\n      <td>1.0</td>\n    </tr>\n    <tr>\n      <th>...</th>\n      <td>...</td>\n      <td>...</td>\n      <td>...</td>\n      <td>...</td>\n      <td>...</td>\n    </tr>\n    <tr>\n      <th>7824423</th>\n      <td>870</td>\n      <td>5688</td>\n      <td>A34BZM6S9L7QI4</td>\n      <td>B00LGQ6HL8</td>\n      <td>5.0</td>\n    </tr>\n    <tr>\n      <th>7824424</th>\n      <td>187</td>\n      <td>5688</td>\n      <td>A1G650TTTHEAL5</td>\n      <td>B00LGQ6HL8</td>\n      <td>5.0</td>\n    </tr>\n    <tr>\n      <th>7824425</th>\n      <td>462</td>\n      <td>5688</td>\n      <td>A25C2M3QF9G7OQ</td>\n      <td>B00LGQ6HL8</td>\n      <td>5.0</td>\n    </tr>\n    <tr>\n      <th>7824426</th>\n      <td>163</td>\n      <td>5688</td>\n      <td>A1E1LEVQ9VQNK</td>\n      <td>B00LGQ6HL8</td>\n      <td>5.0</td>\n    </tr>\n    <tr>\n      <th>7824427</th>\n      <td>664</td>\n      <td>5688</td>\n      <td>A2NYK9KWFMJV4Y</td>\n      <td>B00LGQ6HL8</td>\n      <td>5.0</td>\n    </tr>\n  </tbody>\n</table>\n<p>65290 rows × 5 columns</p>\n</div>"
     },
     "execution_count": 195,
     "metadata": {},
     "output_type": "execute_result"
    }
   ],
   "source": [
    "# encode user ids and product ids as to integers\n",
    "data = df[['user_id', 'prod_id']].apply(LabelEncoder().fit_transform)\n",
    "\n",
    "# ensure that initial user ids are available for decoding\n",
    "data['user_id_init'] = df['user_id']\n",
    "\n",
    "# ensure initial product ids are available for decoding\n",
    "data['prod_id_init'] = df['prod_id']\n",
    "\n",
    "# add the rating column to the data\n",
    "data['rating'] = df['rating']\n",
    "\n",
    "# inspect the dataframe\n",
    "data"
   ],
   "metadata": {
    "collapsed": false,
    "ExecuteTime": {
     "end_time": "2024-09-23T10:27:03.915785Z",
     "start_time": "2024-09-23T10:27:03.828836Z"
    }
   },
   "execution_count": 195
  },
  {
   "cell_type": "code",
   "outputs": [
    {
     "data": {
      "text/plain": "      user_id  prod_id    user_id_init prod_id_init  rating\n1310     1050        0  A3LDPF5FMB782Z   1400501466     5.0\n1322      125        0  A1A5KUIIIHFF4U   1400501466     1.0\n1335      785        0  A2XIOXRRYX0KZY   1400501466     3.0\n1451     1495        0   AW3LX47IHPFRL   1400501466     5.0\n1456      164        0  A1E3OB6QMBKRYZ   1400501466     1.0",
      "text/html": "<div>\n<style scoped>\n    .dataframe tbody tr th:only-of-type {\n        vertical-align: middle;\n    }\n\n    .dataframe tbody tr th {\n        vertical-align: top;\n    }\n\n    .dataframe thead th {\n        text-align: right;\n    }\n</style>\n<table border=\"1\" class=\"dataframe\">\n  <thead>\n    <tr style=\"text-align: right;\">\n      <th></th>\n      <th>user_id</th>\n      <th>prod_id</th>\n      <th>user_id_init</th>\n      <th>prod_id_init</th>\n      <th>rating</th>\n    </tr>\n  </thead>\n  <tbody>\n    <tr>\n      <th>1310</th>\n      <td>1050</td>\n      <td>0</td>\n      <td>A3LDPF5FMB782Z</td>\n      <td>1400501466</td>\n      <td>5.0</td>\n    </tr>\n    <tr>\n      <th>1322</th>\n      <td>125</td>\n      <td>0</td>\n      <td>A1A5KUIIIHFF4U</td>\n      <td>1400501466</td>\n      <td>1.0</td>\n    </tr>\n    <tr>\n      <th>1335</th>\n      <td>785</td>\n      <td>0</td>\n      <td>A2XIOXRRYX0KZY</td>\n      <td>1400501466</td>\n      <td>3.0</td>\n    </tr>\n    <tr>\n      <th>1451</th>\n      <td>1495</td>\n      <td>0</td>\n      <td>AW3LX47IHPFRL</td>\n      <td>1400501466</td>\n      <td>5.0</td>\n    </tr>\n    <tr>\n      <th>1456</th>\n      <td>164</td>\n      <td>0</td>\n      <td>A1E3OB6QMBKRYZ</td>\n      <td>1400501466</td>\n      <td>1.0</td>\n    </tr>\n  </tbody>\n</table>\n</div>"
     },
     "execution_count": 196,
     "metadata": {},
     "output_type": "execute_result"
    }
   ],
   "source": [
    "# create a deepcopy of the data dataframe\n",
    "data_df = data.copy()\n",
    "\n",
    "# inspect the copy\n",
    "data_df.head()"
   ],
   "metadata": {
    "collapsed": false,
    "ExecuteTime": {
     "end_time": "2024-09-23T10:27:04.410502Z",
     "start_time": "2024-09-23T10:27:04.381518Z"
    }
   },
   "execution_count": 196
  },
  {
   "cell_type": "code",
   "outputs": [
    {
     "data": {
      "text/plain": "user_id           int32\nprod_id           int32\nuser_id_init     object\nprod_id_init     object\nrating          float64\ndtype: object"
     },
     "execution_count": 197,
     "metadata": {},
     "output_type": "execute_result"
    }
   ],
   "source": [
    "# inspect the data types of the columns\n",
    "data_df.dtypes"
   ],
   "metadata": {
    "collapsed": false,
    "ExecuteTime": {
     "end_time": "2024-09-23T10:27:04.943931Z",
     "start_time": "2024-09-23T10:27:04.930071Z"
    }
   },
   "execution_count": 197
  },
  {
   "cell_type": "code",
   "execution_count": 198,
   "metadata": {
    "id": "rGfYDiOCpe4X",
    "ExecuteTime": {
     "end_time": "2024-09-23T10:27:05.561580Z",
     "start_time": "2024-09-23T10:27:05.478246Z"
    }
   },
   "outputs": [
    {
     "data": {
      "text/plain": "<surprise.dataset.DatasetAutoFolds at 0x1fa8650c9a0>"
     },
     "execution_count": 198,
     "metadata": {},
     "output_type": "execute_result"
    }
   ],
   "source": [
    "# Instantiating Reader scale with expected rating scale\n",
    "\n",
    "# tells the Dataset what the rating scale is\n",
    "reader = Reader(rating_scale=(1, 5))\n",
    "\n",
    "# Loading the rating dataset\n",
    "data_su = Dataset.load_from_df(data_df[['user_id', 'prod_id', 'rating']], reader)\n",
    "\n",
    "data_su"
   ]
  },
  {
   "cell_type": "code",
   "outputs": [],
   "source": [
    "# Splitting the data into train and test datasets\n",
    "trainset, testset = train_test_split(data_su, test_size=0.3, random_state=1)"
   ],
   "metadata": {
    "collapsed": false,
    "ExecuteTime": {
     "end_time": "2024-09-23T10:27:06.363433Z",
     "start_time": "2024-09-23T10:27:06.272349Z"
    }
   },
   "execution_count": 199
  },
  {
   "cell_type": "markdown",
   "metadata": {
    "id": "DmHTEt7TnVNC"
   },
   "source": [
    "Now, we are **ready to build the first baseline similarity-based recommendation system** using the cosine similarity."
   ]
  },
  {
   "cell_type": "markdown",
   "metadata": {
    "id": "SVDfVHB4tQfU"
   },
   "source": [
    "### **Building the user-user Similarity-based Recommendation System**"
   ]
  },
  {
   "cell_type": "code",
   "execution_count": 223,
   "metadata": {
    "collapsed": false,
    "ExecuteTime": {
     "end_time": "2024-09-23T11:10:31.381858Z",
     "start_time": "2024-09-23T11:10:31.151499Z"
    }
   },
   "outputs": [
    {
     "data": {
      "text/plain": "<surprise.prediction_algorithms.knns.KNNBasic at 0x1fa86ea5910>"
     },
     "execution_count": 223,
     "metadata": {},
     "output_type": "execute_result"
    }
   ],
   "source": [
    "# Declaring the similarity options\n",
    "\n",
    "options = {\n",
    "    'name': 'cosine', \n",
    "    'user_based' : True # gives user based similarity, false gives item based\n",
    "}\n",
    "\n",
    "# Initialize the KNNBasic model using sim_options declared, Verbose = False, and setting random_state = 1\n",
    "\n",
    "user_knn_alg = KNNBasic(sim_options=options, verbose=False)\n",
    "\n",
    "# Fit the model on the training data\n",
    "user_knn_alg.fit(trainset)"
   ]
  },
  {
   "cell_type": "code",
   "outputs": [
    {
     "name": "stdout",
     "output_type": "stream",
     "text": [
      "Recommended k for testing: 10.656413612565444\n",
      "RMSE: 1.0390\n",
      "Precision:  0.845\n",
      "Recall:  0.871\n",
      "F_1 score:  0.858\n"
     ]
    }
   ],
   "source": [
    "# Let us compute precision@k, recall@k, and f_1 score using the precision_recall_at_k function defined above\n",
    "model_performances['user-user-base'] = precision_recall_at_k(user_knn_alg, 15, 3.5)"
   ],
   "metadata": {
    "id": "vO3FL7iape8A",
    "scrolled": false,
    "ExecuteTime": {
     "end_time": "2024-09-23T13:52:42.188305Z",
     "start_time": "2024-09-23T13:52:40.709582Z"
    }
   },
   "execution_count": 343
  },
  {
   "cell_type": "markdown",
   "metadata": {
    "id": "nEuJK_A9Tsnn"
   },
   "source": [
    "The model is doing a decent job in both precision and recall. The precision shows that 85% of books recommended to the user have been appropriate. The model has also been able to recommend 87.1% of the products that are relevant to the user (with k = 15). The root mean squared error for the baseline model is 1.0390."
   ]
  },
  {
   "cell_type": "markdown",
   "metadata": {
    "id": "reFD0-nsnVNC"
   },
   "source": [
    "Let's now **predict rating for a user with `userId=A3LDPF5FMB782Z` and `productId=1400501466`** as shown below. Here the user has already interacted or watched the product with productId '1400501466' and given a rating of 5."
   ]
  },
  {
   "cell_type": "code",
   "outputs": [],
   "source": [
    "# function to decode ids that were previously encoded to integers\n",
    "def decode_ids(data: pd.DataFrame, uid = None, pid = None):\n",
    "    \"\"\"\n",
    "    Args:\n",
    "        data (pd.DataFrame): The DataFrame that includes both initial and encoded ids as columns. (Named data_df).\n",
    "        uid (str or None): The original (unencoded) user ID. \n",
    "        pid (str or None): The original (unencoded) product ID.\n",
    "    \n",
    "    Returns:\n",
    "        A 2-tuple. Element one is the encoded user ID. Element two is the encoded product ID. \n",
    "    \"\"\"\n",
    "    if uid is None:\n",
    "        user_id = uid\n",
    "    else:\n",
    "        user_id = data.loc[data_df['user_id_init'] == uid, 'user_id'].unique()[0]\n",
    "    if pid is None: \n",
    "        prod_id = pid\n",
    "    else: \n",
    "        prod_id = data.loc[data_df['prod_id_init'] == pid, 'prod_id'].unique()[0]\n",
    "        \n",
    "    print(f\"Original user ID: {uid}\\tEncoded user id: {user_id}\\nOriginal product ID: {pid}\\tEncoded Product id: {prod_id}\\n\")\n",
    "    return user_id, prod_id"
   ],
   "metadata": {
    "collapsed": false,
    "ExecuteTime": {
     "end_time": "2024-09-23T11:11:28.576628Z",
     "start_time": "2024-09-23T11:11:28.554979Z"
    }
   },
   "execution_count": 225
  },
  {
   "cell_type": "code",
   "outputs": [
    {
     "name": "stdout",
     "output_type": "stream",
     "text": [
      "Original user ID: A34BZM6S9L7QI4\tEncoded user id: 870\n",
      "Original product ID: 1400501466\tEncoded Product id: 0\n",
      "\n",
      "Original user ID: A3LDPF5FMB782Z\tEncoded user id: 1050\n",
      "Original product ID: None\tEncoded Product id: None\n"
     ]
    }
   ],
   "source": [
    "# decode the ids and inspect as sanity check\n",
    "\n",
    "# store variables for the usedIDs that will be used for model testing, as well as their decoded IDs\n",
    "\n",
    "uid34 = \"A34BZM6S9L7QI4\"\n",
    "\n",
    "uid3L = 'A3LDPF5FMB782Z'\n",
    "\n",
    "pid14 = '1400501466'\n",
    "\n",
    "user34_id, prod14_id = decode_ids(data_df, uid34, pid14)\n",
    "user3L_id, _ = decode_ids(data_df, uid3L)"
   ],
   "metadata": {
    "collapsed": false,
    "ExecuteTime": {
     "end_time": "2024-09-23T11:11:29.358961Z",
     "start_time": "2024-09-23T11:11:29.313617Z"
    }
   },
   "execution_count": 226
  },
  {
   "cell_type": "code",
   "execution_count": 227,
   "metadata": {
    "id": "Sxd23bZ9pe_x",
    "ExecuteTime": {
     "end_time": "2024-09-23T11:11:39.295527Z",
     "start_time": "2024-09-23T11:11:39.281534Z"
    }
   },
   "outputs": [
    {
     "name": "stdout",
     "output_type": "stream",
     "text": [
      "user: 1050       item: 0          r_ui = 5.00   est = 3.80   {'actual_k': 5, 'was_impossible': False}\n"
     ]
    },
    {
     "data": {
      "text/plain": "Prediction(uid=1050, iid=0, r_ui=5, est=3.8, details={'actual_k': 5, 'was_impossible': False})"
     },
     "execution_count": 227,
     "metadata": {},
     "output_type": "execute_result"
    }
   ],
   "source": [
    "# Predicting rating for a sample user with an interacted product\n",
    "user_knn_alg.predict(uid=user3L_id, iid=prod14_id,r_ui = 5,verbose = True)"
   ]
  },
  {
   "cell_type": "markdown",
   "source": [
    "The baseline nearest neighbours algorithm predicted a rating of 3.8, compared to the users true rating of 5. This is a big difference, which suggests a higher threshold for making recommendations to users."
   ],
   "metadata": {
    "collapsed": false
   }
  },
  {
   "cell_type": "markdown",
   "metadata": {
    "id": "cj6ecbglTsno"
   },
   "source": [
    "Below is the **list of users who have not seen the product with product id \"1400501466\"**."
   ]
  },
  {
   "cell_type": "code",
   "execution_count": 231,
   "metadata": {
    "collapsed": false,
    "ExecuteTime": {
     "end_time": "2024-09-23T11:17:08.773731Z",
     "start_time": "2024-09-23T11:17:08.729613Z"
    }
   },
   "outputs": [
    {
     "data": {
      "text/plain": "array(['A2ZR3YTMEEIIZ4', 'A3CLWR1UUZT6TG', 'A5JLAU2ARJ0BO', ...,\n       'A215WH6RUDUCMP', 'A38C12950IM24P', 'A2J4XMWKR8PPD0'], dtype=object)"
     },
     "execution_count": 231,
     "metadata": {},
     "output_type": "execute_result"
    }
   ],
   "source": [
    "# Find unique user_id where prod_id is not equal to \"1400501466\"\n",
    "users: np.ndarray = data_df.loc[data_df['prod_id_init'] != pid14, 'user_id_init'].unique()\n",
    "users"
   ]
  },
  {
   "cell_type": "code",
   "outputs": [
    {
     "data": {
      "text/plain": "True"
     },
     "execution_count": 232,
     "metadata": {},
     "output_type": "execute_result"
    }
   ],
   "source": [
    "# check that the user id \"A34BZM6S9L7QI4\" is indeed in the series\n",
    "np.isin(users, uid34).any()"
   ],
   "metadata": {
    "id": "xCRBMD-RTsno",
    "ExecuteTime": {
     "end_time": "2024-09-23T11:17:09.957701Z",
     "start_time": "2024-09-23T11:17:09.943710Z"
    }
   },
   "execution_count": 232
  },
  {
   "cell_type": "markdown",
   "metadata": {
    "id": "KT42ecaSTsno"
   },
   "source": [
    "* It can be observed from the above list that **user \"A34BZM6S9L7QI4\" has not seen the product with productId \"1400501466\"** as this userId is a part of the above list."
   ]
  },
  {
   "cell_type": "markdown",
   "metadata": {
    "id": "EXSgq8OEnVNE"
   },
   "source": [
    "**Below we are predicting rating for `userId=A34BZM6S9L7QI4` and `prod_id=1400501466`.** "
   ]
  },
  {
   "cell_type": "code",
   "execution_count": 233,
   "metadata": {
    "id": "PbFcBj1PpfEV",
    "ExecuteTime": {
     "end_time": "2024-09-23T11:17:13.368053Z",
     "start_time": "2024-09-23T11:17:13.349069Z"
    }
   },
   "outputs": [
    {
     "name": "stdout",
     "output_type": "stream",
     "text": [
      "user: 870        item: 0          r_ui = None   est = 2.00   {'actual_k': 2, 'was_impossible': False}\n"
     ]
    },
    {
     "data": {
      "text/plain": "Prediction(uid=870, iid=0, r_ui=None, est=1.9969324864734994, details={'actual_k': 2, 'was_impossible': False})"
     },
     "execution_count": 233,
     "metadata": {},
     "output_type": "execute_result"
    }
   ],
   "source": [
    "# Predicting rating for a sample user with a non interacted product\n",
    "user_knn_alg.predict(uid=user34_id, iid=prod14_id, verbose = True)"
   ]
  },
  {
   "cell_type": "markdown",
   "metadata": {
    "id": "02rwld8yemRI"
   },
   "source": [
    "The nearest neighbour algorithm gives an estimated rating of only 2. This is an unlikely since we know that only ~ 3.8% of users give a rating of 2. Since the 'k' parameter was not set, the default of 40 was used. However, the prediction result shows that only 2 nearest neighbours were identified, which could be another cause of the low rating."
   ]
  },
  {
   "cell_type": "markdown",
   "metadata": {
    "id": "ejjof6csnVNF"
   },
   "source": [
    "### **Improving similarity-based recommendation system by tuning its hyperparameters**"
   ]
  },
  {
   "cell_type": "markdown",
   "metadata": {
    "id": "p2j4VvfQnVNF"
   },
   "source": [
    "Below, we will be tuning hyperparameters for the `KNNBasic` algorithm. Let's try to understand some of the hyperparameters of the KNNBasic algorithm:\n",
    "\n",
    "- **k** (int) – The (max) number of neighbors to take into account for aggregation. Default is 40.\n",
    "- **min_k** (int) – The minimum number of neighbors to take into account for aggregation. If there are not enough neighbors, the prediction is set to the global mean of all ratings. Default is 1.\n",
    "- **sim_options** (dict) – A dictionary of options for the similarity measure. And there are four similarity measures available in surprise - \n",
    "    - cosine\n",
    "    - msd (default)\n",
    "    - Pearson\n",
    "    - Pearson baseline"
   ]
  },
  {
   "cell_type": "code",
   "execution_count": 234,
   "metadata": {
    "collapsed": false,
    "ExecuteTime": {
     "end_time": "2024-09-23T11:28:10.167527Z",
     "start_time": "2024-09-23T11:28:10.155323Z"
    }
   },
   "outputs": [],
   "source": [
    "# Setting up parameter grid to tune the hyperparameters\n",
    "\n",
    "params_user: dict = {\n",
    "    'k' : [20, 30, 40, 50], \n",
    "    'min_k': [1, 3, 6], \n",
    "    'sim_options': {\n",
    "        'name': ['cosine', 'msd'], \n",
    "        'user_based': [True]\n",
    "    }\n",
    "}"
   ]
  },
  {
   "cell_type": "code",
   "outputs": [],
   "source": [
    "# Performing 3-fold cross-validation to tune the hyperparameters\n",
    "gs_user = GridSearchCV(KNNBasic, params_user, measures=['rmse', 'mae'], cv=3, n_jobs=-1)\n",
    "# Fitting the data\n",
    "gs_user.fit(data_su)"
   ],
   "metadata": {
    "collapsed": false,
    "ExecuteTime": {
     "end_time": "2024-09-23T11:28:29.823358Z",
     "start_time": "2024-09-23T11:28:13.602352Z"
    }
   },
   "execution_count": 235
  },
  {
   "cell_type": "code",
   "outputs": [
    {
     "data": {
      "text/plain": "0.9714920513417518"
     },
     "execution_count": 236,
     "metadata": {},
     "output_type": "execute_result"
    }
   ],
   "source": [
    "# Best RMSE score\n",
    "rmse_user_bs = gs_user.best_score['rmse']\n",
    "rmse_user_bs"
   ],
   "metadata": {
    "collapsed": false,
    "ExecuteTime": {
     "end_time": "2024-09-23T11:29:11.024811Z",
     "start_time": "2024-09-23T11:29:11.003810Z"
    }
   },
   "execution_count": 236
  },
  {
   "cell_type": "markdown",
   "source": [
    "Grid search optimization has decreased the root mean squared error from "
   ],
   "metadata": {
    "collapsed": false
   }
  },
  {
   "cell_type": "code",
   "outputs": [
    {
     "data": {
      "text/plain": "{'k': 40, 'min_k': 6, 'sim_options': {'name': 'cosine', 'user_based': True}}"
     },
     "execution_count": 237,
     "metadata": {},
     "output_type": "execute_result"
    }
   ],
   "source": [
    "# Combination of parameters that gave the best RMSE score\n",
    "rmse_user_bp = gs_user.best_params['rmse']\n",
    "rmse_user_bp"
   ],
   "metadata": {
    "id": "9LmPbSUSTsnp",
    "ExecuteTime": {
     "end_time": "2024-09-23T11:30:46.362919Z",
     "start_time": "2024-09-23T11:30:46.352186Z"
    }
   },
   "execution_count": 237
  },
  {
   "cell_type": "markdown",
   "metadata": {
    "id": "L2fHNvu7nVNF"
   },
   "source": [
    "Once the grid search is **complete**, we can get the **optimal values for each of those hyperparameters**."
   ]
  },
  {
   "cell_type": "markdown",
   "metadata": {
    "id": "NHWgxu_YnVNG"
   },
   "source": [
    "Now, let's build the **final model by using tuned values of the hyperparameters**, which we received by using **grid search cross-validation**."
   ]
  },
  {
   "cell_type": "code",
   "execution_count": 240,
   "metadata": {
    "collapsed": false,
    "ExecuteTime": {
     "end_time": "2024-09-23T11:32:45.717034Z",
     "start_time": "2024-09-23T11:32:45.502609Z"
    }
   },
   "outputs": [
    {
     "name": "stdout",
     "output_type": "stream",
     "text": [
      "Computing the cosine similarity matrix...\n",
      "Done computing similarity matrix.\n"
     ]
    },
    {
     "data": {
      "text/plain": "<surprise.prediction_algorithms.knns.KNNBasic at 0x1fa86dcca60>"
     },
     "execution_count": 240,
     "metadata": {},
     "output_type": "execute_result"
    }
   ],
   "source": [
    "# Using the optimal similarity measure for user-user based collaborative filtering\n",
    "# already stored in the rmse_bp dict\n",
    "\n",
    "# Creating an instance of KNNBasic with optimal hyperparameter values\n",
    "user_knn_optimized: KNNBasic = KNNBasic(rmse_user_bp['k'], rmse_user_bp['min_k'], rmse_user_bp['sim_options'])\n",
    "\n",
    "# Training the algorithm on the trainset\n",
    "user_knn_optimized.fit(trainset)"
   ]
  },
  {
   "cell_type": "code",
   "outputs": [
    {
     "name": "stdout",
     "output_type": "stream",
     "text": [
      "Recommended k for testing: 10.656413612565444\n",
      "RMSE: 0.9790\n",
      "Precision:  0.836\n",
      "Recall:  0.91\n",
      "F_1 score:  0.871\n"
     ]
    }
   ],
   "source": [
    "# Let us compute precision@k and recall@k also with k =10\n",
    "model_performances['user-user-optimized'] = precision_recall_at_k(user_knn_optimized, k = 15)"
   ],
   "metadata": {
    "id": "PujRJA8X_JEJ",
    "ExecuteTime": {
     "end_time": "2024-09-23T13:53:04.500276Z",
     "start_time": "2024-09-23T13:53:03.573303Z"
    }
   },
   "execution_count": 344
  },
  {
   "cell_type": "markdown",
   "metadata": {
    "id": "yHsWvFjKTsnp"
   },
   "source": [
    "The RMSE has decreased from 1.039 to 0.9790 after hyper-parameter tuning. The precision has decreased from 0.845 to 0.836 and recall has increased from 0.871 to 0.91. \n",
    "\n",
    "Of course there is a tradeoff between precision and recall. These are influenced by the number of recommendations between made. The optimal number of products to recommend to maximize this tradeoff can be calculated."
   ]
  },
  {
   "cell_type": "markdown",
   "metadata": {
    "id": "YhcAXK0CnVNG"
   },
   "source": [
    "### **Steps:**\n",
    "- **Predict rating for the user with `userId=\"A3LDPF5FMB782Z\"`, and `prod_id= \"1400501466\"` using the optimized model**\n",
    "- **Predict rating for `userId=\"A34BZM6S9L7QI4\"` who has not interacted with `prod_id =\"1400501466\"`, by using the optimized model**\n",
    "- **Compare the output with the output from the baseline model**"
   ]
  },
  {
   "cell_type": "code",
   "execution_count": 250,
   "metadata": {
    "id": "FgV63lHiq1TV",
    "ExecuteTime": {
     "end_time": "2024-09-23T11:40:45.905466Z",
     "start_time": "2024-09-23T11:40:45.891945Z"
    }
   },
   "outputs": [
    {
     "name": "stdout",
     "output_type": "stream",
     "text": [
      "user: 1050       item: 0          r_ui = 5.00   est = 4.30   {'was_impossible': True, 'reason': 'Not enough neighbors.'}\n"
     ]
    },
    {
     "data": {
      "text/plain": "Prediction(uid=1050, iid=0, r_ui=5, est=4.29674200818327, details={'was_impossible': True, 'reason': 'Not enough neighbors.'})"
     },
     "execution_count": 250,
     "metadata": {},
     "output_type": "execute_result"
    }
   ],
   "source": [
    "# use the optimized algorithm to predict the rating \n",
    "user_knn_optimized.predict(uid=user3L_id, iid=prod14_id, r_ui=5, verbose=True)"
   ]
  },
  {
   "cell_type": "markdown",
   "source": [
    "Although the prediction for user 1050 has improved, (4.3 vs 3.8). The prediction result returns that not enough users have been found and therefore the global average is being used."
   ],
   "metadata": {
    "collapsed": false
   }
  },
  {
   "cell_type": "code",
   "execution_count": 252,
   "metadata": {
    "id": "HXO2Ztjhq1bN",
    "ExecuteTime": {
     "end_time": "2024-09-23T11:42:00.796903Z",
     "start_time": "2024-09-23T11:42:00.780879Z"
    }
   },
   "outputs": [
    {
     "name": "stdout",
     "output_type": "stream",
     "text": [
      "user: 870        item: 0          r_ui = None   est = 4.30   {'was_impossible': True, 'reason': 'Not enough neighbors.'}\n"
     ]
    },
    {
     "data": {
      "text/plain": "Prediction(uid=870, iid=0, r_ui=None, est=4.29674200818327, details={'was_impossible': True, 'reason': 'Not enough neighbors.'})"
     },
     "execution_count": 252,
     "metadata": {},
     "output_type": "execute_result"
    }
   ],
   "source": [
    "# use the optimized algorithm to make a prediction for the given user and product\n",
    "user_knn_optimized.predict(uid=user34_id, iid=prod14_id, verbose=True)"
   ]
  },
  {
   "cell_type": "markdown",
   "source": [
    "The tuned algorithm uses the min_k parameter of 6. When making the prediction using the baseline algorithm, it was seen that that only 2 nearest neighbours were identified. In this case the prediction of 4.3 is the global average over the trainset (returned by the default_prediction method of the AlgoBase super class).\n",
    "\n",
    "We need to ensure that these situations are accounted for when making recommendations, as they will diminish precision."
   ],
   "metadata": {
    "collapsed": false
   }
  },
  {
   "cell_type": "code",
   "outputs": [],
   "source": [
    "test: list = user_knn_optimized.test(testset)"
   ],
   "metadata": {
    "collapsed": false,
    "ExecuteTime": {
     "end_time": "2024-09-23T11:59:25.422875Z",
     "start_time": "2024-09-23T11:59:24.828290Z"
    }
   },
   "execution_count": 264
  },
  {
   "cell_type": "code",
   "outputs": [
    {
     "name": "stdout",
     "output_type": "stream",
     "text": [
      "<class 'surprise.prediction_algorithms.predictions.Prediction'>\n",
      "user: 405        item: 1341       r_ui = 5.00   est = 4.30   {'was_impossible': True, 'reason': 'Not enough neighbors.'}\n"
     ]
    }
   ],
   "source": [
    "print(type(test[0]))\n",
    "print(test[0])"
   ],
   "metadata": {
    "collapsed": false,
    "ExecuteTime": {
     "end_time": "2024-09-23T11:59:38.896095Z",
     "start_time": "2024-09-23T11:59:38.888487Z"
    }
   },
   "execution_count": 265
  },
  {
   "cell_type": "code",
   "outputs": [
    {
     "data": {
      "text/plain": "True"
     },
     "execution_count": 267,
     "metadata": {},
     "output_type": "execute_result"
    }
   ],
   "source": [
    "test_pred = test[0]\n",
    "test_pred.details['was_impossible']"
   ],
   "metadata": {
    "collapsed": false,
    "ExecuteTime": {
     "end_time": "2024-09-23T12:00:41.621665Z",
     "start_time": "2024-09-23T12:00:41.608026Z"
    }
   },
   "execution_count": 267
  },
  {
   "cell_type": "code",
   "outputs": [],
   "source": [
    "# tuned a model for use when there are not sufficient neighbours to make a prediction \n",
    "# Setting up parameter grid to tune the hyperparameters\n",
    "\n",
    "params_user_fallback: dict = {\n",
    "    'k' : [20, 30, 40, 50], \n",
    "    'min_k': [2], # min_k is only two\n",
    "    'sim_options': {\n",
    "        'name': ['cosine', 'msd'], \n",
    "        'user_based': [True]\n",
    "    }\n",
    "}"
   ],
   "metadata": {
    "collapsed": false,
    "ExecuteTime": {
     "end_time": "2024-09-23T11:53:06.214216Z",
     "start_time": "2024-09-23T11:53:06.198218Z"
    }
   },
   "execution_count": 258
  },
  {
   "cell_type": "code",
   "outputs": [],
   "source": [
    "# Performing 3-fold cross-validation to tune the hyperparameters\n",
    "gs_user_fallback = GridSearchCV(KNNBasic, params_user_fallback, measures=['rmse', 'mae'], cv=3, n_jobs=-1)\n",
    "# Fitting the data\n",
    "gs_user_fallback.fit(data_su)"
   ],
   "metadata": {
    "collapsed": false,
    "ExecuteTime": {
     "end_time": "2024-09-23T11:53:13.859829Z",
     "start_time": "2024-09-23T11:53:08.001537Z"
    }
   },
   "execution_count": 259
  },
  {
   "cell_type": "code",
   "outputs": [
    {
     "data": {
      "text/plain": "0.986748294463539"
     },
     "execution_count": 260,
     "metadata": {},
     "output_type": "execute_result"
    }
   ],
   "source": [
    "# Best RMSE score\n",
    "rmse_user_fallback_bs = gs_user_fallback.best_score['rmse']\n",
    "rmse_user_fallback_bs"
   ],
   "metadata": {
    "collapsed": false,
    "ExecuteTime": {
     "end_time": "2024-09-23T11:53:18.141376Z",
     "start_time": "2024-09-23T11:53:18.127726Z"
    }
   },
   "execution_count": 260
  },
  {
   "cell_type": "code",
   "outputs": [
    {
     "data": {
      "text/plain": "{'k': 50, 'min_k': 2, 'sim_options': {'name': 'cosine', 'user_based': True}}"
     },
     "execution_count": 261,
     "metadata": {},
     "output_type": "execute_result"
    }
   ],
   "source": [
    "# Combination of parameters that gave the best RMSE score\n",
    "rmse_user_fallback_bp = gs_user_fallback.best_params['rmse']\n",
    "rmse_user_fallback_bp"
   ],
   "metadata": {
    "collapsed": false,
    "ExecuteTime": {
     "end_time": "2024-09-23T11:53:19.425525Z",
     "start_time": "2024-09-23T11:53:19.411921Z"
    }
   },
   "execution_count": 261
  },
  {
   "cell_type": "code",
   "outputs": [
    {
     "name": "stdout",
     "output_type": "stream",
     "text": [
      "Computing the cosine similarity matrix...\n",
      "Done computing similarity matrix.\n"
     ]
    },
    {
     "data": {
      "text/plain": "<surprise.prediction_algorithms.knns.KNNBasic at 0x1fa86fd8e50>"
     },
     "execution_count": 262,
     "metadata": {},
     "output_type": "execute_result"
    }
   ],
   "source": [
    "user_knn_fallback = KNNBasic(rmse_user_fallback_bp['k'], rmse_user_fallback_bp['min_k'], rmse_user_fallback_bp['sim_options'])\n",
    "\n",
    "user_knn_fallback.fit(trainset)"
   ],
   "metadata": {
    "collapsed": false,
    "ExecuteTime": {
     "end_time": "2024-09-23T11:54:46.272508Z",
     "start_time": "2024-09-23T11:54:46.057431Z"
    }
   },
   "execution_count": 262
  },
  {
   "cell_type": "code",
   "outputs": [
    {
     "name": "stdout",
     "output_type": "stream",
     "text": [
      "user: 870        item: 0          r_ui = None   est = 2.00   {'actual_k': 2, 'was_impossible': False}\n"
     ]
    },
    {
     "data": {
      "text/plain": "Prediction(uid=870, iid=0, r_ui=None, est=1.9969324864734994, details={'actual_k': 2, 'was_impossible': False})"
     },
     "execution_count": 263,
     "metadata": {},
     "output_type": "execute_result"
    }
   ],
   "source": [
    "# use the optimized algorithm to make a prediction for the given user and product\n",
    "user_knn_fallback.predict(uid=user34_id, iid=prod14_id, verbose=True)"
   ],
   "metadata": {
    "collapsed": false,
    "ExecuteTime": {
     "end_time": "2024-09-23T11:55:13.996355Z",
     "start_time": "2024-09-23T11:55:13.983593Z"
    }
   },
   "execution_count": 263
  },
  {
   "cell_type": "markdown",
   "source": [
    "The was_impossible entry is now set to False. The prediction is now more accurate since it is based on some neighbours (although few) as opposed to the global minimum."
   ],
   "metadata": {
    "collapsed": false
   }
  },
  {
   "cell_type": "code",
   "outputs": [
    {
     "name": "stdout",
     "output_type": "stream",
     "text": [
      "Recommended k for testing: 10.656413612565444\n",
      "RMSE: 0.9958\n",
      "Precision:  0.844\n",
      "Recall:  0.89\n",
      "F_1 score:  0.866\n"
     ]
    }
   ],
   "source": [
    "precision_recall_at_k(user_knn_optimized, k = 15, model_fallback=user_knn_fallback)"
   ],
   "metadata": {
    "collapsed": false,
    "ExecuteTime": {
     "end_time": "2024-09-23T12:05:20.519849Z",
     "start_time": "2024-09-23T12:05:18.781540Z"
    }
   },
   "execution_count": 269
  },
  {
   "cell_type": "markdown",
   "source": [
    "Using a tuned fallback model leads to an increase in precision from 0.836 to 0.844. However the recall of the system has now decreased from 0.91 to 0.89."
   ],
   "metadata": {
    "collapsed": false
   }
  },
  {
   "cell_type": "markdown",
   "metadata": {
    "id": "op_zwO_FnVNH"
   },
   "source": [
    "### **Identifying similar users to a given user (nearest neighbors)**"
   ]
  },
  {
   "cell_type": "markdown",
   "metadata": {
    "id": "o2QsfqhanVNH"
   },
   "source": [
    "We can also find out **similar users to a given user** or its **nearest neighbors** based on this KNNBasic algorithm. Below, we are finding the 5 most similar users to the first user in the list with internal id 0, based on the `msd` distance metric."
   ]
  },
  {
   "cell_type": "code",
   "execution_count": 270,
   "metadata": {
    "id": "TbFle7cKmBJG",
    "ExecuteTime": {
     "end_time": "2024-09-23T12:12:55.773449Z",
     "start_time": "2024-09-23T12:12:55.759289Z"
    }
   },
   "outputs": [
    {
     "data": {
      "text/plain": "[1, 10, 17, 18, 28]"
     },
     "execution_count": 270,
     "metadata": {},
     "output_type": "execute_result"
    }
   ],
   "source": [
    "# 0 is the inner id of the above user\n",
    "\n",
    "# use the get_neighbors method to find the list of nearest neighbours\n",
    "user_knn_optimized.get_neighbors(0, 5)"
   ]
  },
  {
   "cell_type": "markdown",
   "metadata": {
    "id": "Z0NsrX_anVNH"
   },
   "source": [
    "### **Implementing the recommendation algorithm based on optimized KNNBasic model**"
   ]
  },
  {
   "cell_type": "markdown",
   "metadata": {
    "id": "U3ESobDynVNI"
   },
   "source": [
    "Below we will be implementing a function where the input parameters are:\n",
    "\n",
    "- data: A **rating** dataset\n",
    "- user_id: A user id **against which we want the recommendations**\n",
    "- top_n: The **number of products we want to recommend**\n",
    "- algo: the algorithm we want to use **for predicting the ratings**\n",
    "- The output of the function is a **set of top_n items** recommended for the given user_id based on the given algorithm"
   ]
  },
  {
   "cell_type": "code",
   "execution_count": 271,
   "metadata": {
    "id": "vW9V1Tk65HlY",
    "ExecuteTime": {
     "end_time": "2024-09-23T12:13:33.512488Z",
     "start_time": "2024-09-23T12:13:33.495305Z"
    }
   },
   "outputs": [],
   "source": [
    "def get_recommendations(data: pd.DataFrame, uid: str, top_n: int, algo: KNNBasic) -> list[tuple[int, float or int]]:\n",
    "    \n",
    "    \"\"\"\n",
    "    Args:\n",
    "        data (pd.DataFrame): The encoded dataset. The DataFrame should include columns for the UserId, ProdId, and Rating. (Named data_df in this notebook)\n",
    "        uid (str): The initial (unencoded) user ID.\n",
    "        top_n (int): The number of recommendations to return.\n",
    "        algo (Callable): The trained prediction algorithm to be used for making recommendations.\n",
    "        corrected (bool): Whether the predictions should be adjusted for count of ratings or not.\n",
    "    \n",
    "    Returns:\n",
    "        A list of book_id, rating prediction tuples recommended to the user, sorted by estimated rating from highest to lowest.\n",
    "    \"\"\"\n",
    "    \n",
    "    # decode the user_id\n",
    "    user_id, _ = decode_ids(data, uid)\n",
    "    \n",
    "    # Creating an user item interactions matrix \n",
    "    user_item_interactions_matrix: pd.DataFrame = data.pivot(index = 'user_id', columns = 'prod_id', values = 'rating')\n",
    "    \n",
    "    # Extracting those product ids which the user_id has not interacted yet\n",
    "    \n",
    "    # get a list of product ids that the user has not interacted with (are null)\n",
    "    non_interacted_products: list = user_item_interactions_matrix.loc[user_id][user_item_interactions_matrix.loc[user_id].isnull()].index.tolist()\n",
    "    \n",
    "    # loop through each item with which the person has not interacted, and predict a rating    \n",
    "    recommendations: list = [(item_id, algo.predict(user_id, item_id).est) for item_id in non_interacted_products]\n",
    "\n",
    "    # Sorting the predicted ratings in descending order\n",
    "    recommendations.sort(key = lambda x: x[1], reverse = True)\n",
    "\n",
    "    return recommendations[:top_n] # Returning top n highest predicted rating products for this user"
   ]
  },
  {
   "cell_type": "markdown",
   "metadata": {
    "id": "Oj_S7kh4nVNI"
   },
   "source": [
    "**Predicting top 5 products for userId = \"A3LDPF5FMB782Z\" with similarity based recommendation system**"
   ]
  },
  {
   "cell_type": "code",
   "execution_count": 272,
   "metadata": {
    "id": "qWbR85mI5Hrk",
    "ExecuteTime": {
     "end_time": "2024-09-23T12:13:50.303741Z",
     "start_time": "2024-09-23T12:13:48.598384Z"
    }
   },
   "outputs": [
    {
     "name": "stdout",
     "output_type": "stream",
     "text": [
      "Original user ID: A34BZM6S9L7QI4\tEncoded user id: 870\n",
      "Original product ID: None\tEncoded Product id: None\n",
      "\n",
      "[(110, 5), (336, 5), (340, 5), (617, 5), (634, 5)]\n"
     ]
    }
   ],
   "source": [
    "# Making top 5 recommendations for user_id \"A3LDPF5FMB782Z\" with a similarity-based recommendation engine\n",
    "\n",
    "# call the get_recommendations function for the given user\n",
    "recoms_list: list[tuple[int, float or int]] = get_recommendations(data_df, uid34, 5, user_knn_optimized)\n",
    "\n",
    "# view the resulting list\n",
    "print(recoms_list)"
   ]
  },
  {
   "cell_type": "code",
   "execution_count": 273,
   "metadata": {
    "id": "b5WfIX0Z6_q2",
    "ExecuteTime": {
     "end_time": "2024-09-23T12:14:05.961678Z",
     "start_time": "2024-09-23T12:14:05.932006Z"
    }
   },
   "outputs": [
    {
     "data": {
      "text/plain": "   prod_id  predicted_ratings\n0      110                  5\n1      336                  5\n2      340                  5\n3      617                  5\n4      634                  5",
      "text/html": "<div>\n<style scoped>\n    .dataframe tbody tr th:only-of-type {\n        vertical-align: middle;\n    }\n\n    .dataframe tbody tr th {\n        vertical-align: top;\n    }\n\n    .dataframe thead th {\n        text-align: right;\n    }\n</style>\n<table border=\"1\" class=\"dataframe\">\n  <thead>\n    <tr style=\"text-align: right;\">\n      <th></th>\n      <th>prod_id</th>\n      <th>predicted_ratings</th>\n    </tr>\n  </thead>\n  <tbody>\n    <tr>\n      <th>0</th>\n      <td>110</td>\n      <td>5</td>\n    </tr>\n    <tr>\n      <th>1</th>\n      <td>336</td>\n      <td>5</td>\n    </tr>\n    <tr>\n      <th>2</th>\n      <td>340</td>\n      <td>5</td>\n    </tr>\n    <tr>\n      <th>3</th>\n      <td>617</td>\n      <td>5</td>\n    </tr>\n    <tr>\n      <th>4</th>\n      <td>634</td>\n      <td>5</td>\n    </tr>\n  </tbody>\n</table>\n</div>"
     },
     "execution_count": 273,
     "metadata": {},
     "output_type": "execute_result"
    }
   ],
   "source": [
    "# Building the dataframe for above recommendations with columns \"prod_id\" and \"predicted_ratings\"\n",
    "\n",
    "# initialize a DataFrame using the list\n",
    "recoms_df = pd.DataFrame(recoms_list, columns=['prod_id', 'predicted_ratings'])\n",
    "\n",
    "# inspect the resulting dataframe\n",
    "recoms_df"
   ]
  },
  {
   "cell_type": "markdown",
   "metadata": {
    "id": "QgbzJKk7Tsnr"
   },
   "source": [
    "### **Item-Item Similarity-based Collaborative Filtering Recommendation System**"
   ]
  },
  {
   "cell_type": "markdown",
   "metadata": {
    "id": "qTJu_2hcTsnr"
   },
   "source": [
    "* Above we have seen **similarity-based collaborative filtering** where similarity is calculated **between users**. Now let us look into similarity-based collaborative filtering where similarity is seen **between items**. "
   ]
  },
  {
   "cell_type": "code",
   "execution_count": 345,
   "metadata": {
    "collapsed": false,
    "ExecuteTime": {
     "end_time": "2024-09-23T13:53:41.074047Z",
     "start_time": "2024-09-23T13:53:39.036422Z"
    }
   },
   "outputs": [
    {
     "name": "stdout",
     "output_type": "stream",
     "text": [
      "Computing the cosine similarity matrix...\n",
      "Done computing similarity matrix.\n"
     ]
    },
    {
     "data": {
      "text/plain": "<surprise.prediction_algorithms.knns.KNNBasic at 0x1fa83c9d8e0>"
     },
     "execution_count": 345,
     "metadata": {},
     "output_type": "execute_result"
    }
   ],
   "source": [
    "# Declaring the similarity options\n",
    "sim_options_item = {\n",
    "    'name': 'cosine', \n",
    "    'user_based': False\n",
    "}\n",
    "\n",
    "# KNN algorithm is used to find desired similar items. Use random_state=1\n",
    "\n",
    "items_knn_base = KNNBasic(sim_options=sim_options_item)\n",
    "\n",
    "# fit the data to the algorithm \n",
    "items_knn_base.fit(trainset)"
   ]
  },
  {
   "cell_type": "code",
   "outputs": [
    {
     "name": "stdout",
     "output_type": "stream",
     "text": [
      "Recommended k for testing: 10.656413612565444\n",
      "RMSE: 1.0345\n",
      "Precision:  0.831\n",
      "Recall:  0.863\n",
      "F_1 score:  0.847\n"
     ]
    }
   ],
   "source": [
    "# Call precision_recall_at_k to compute precision@k, recall@k, and f_1 score with k = 10\n",
    "model_performances['items_base'] = precision_recall_at_k(items_knn_base, k=15)"
   ],
   "metadata": {
    "id": "W5RMcdzjTsns",
    "scrolled": false,
    "ExecuteTime": {
     "end_time": "2024-09-23T13:53:44.720581Z",
     "start_time": "2024-09-23T13:53:42.937425Z"
    }
   },
   "execution_count": 346
  },
  {
   "cell_type": "markdown",
   "metadata": {
    "id": "ni9LoeUVTsns"
   },
   "source": [
    "The baseline item-item nearest neighbours algorithm has a higher rmse of (1.034) compared to the rmse of the baseline user-user nn model (1.039). It has has a lower precision (0.831 vs 0.845) and recall (0.863 vs 0.871)."
   ]
  },
  {
   "cell_type": "markdown",
   "metadata": {
    "id": "jFbcDQmxTsns"
   },
   "source": [
    "Let's now **predict a rating for a user with `userId = A3LDPF5FMB782Z` and `prod_Id = 1400501466`** as shown below. Here the user has already interacted or watched the product with productId \"1400501466\"."
   ]
  },
  {
   "cell_type": "code",
   "execution_count": 278,
   "metadata": {
    "id": "JsF-aaWYTsns",
    "ExecuteTime": {
     "end_time": "2024-09-23T12:22:47.093801Z",
     "start_time": "2024-09-23T12:22:47.071792Z"
    }
   },
   "outputs": [
    {
     "name": "stdout",
     "output_type": "stream",
     "text": [
      "user: 1050       item: 0          r_ui = 5.00   est = 4.19   {'actual_k': 16, 'was_impossible': False}\n"
     ]
    },
    {
     "data": {
      "text/plain": "Prediction(uid=1050, iid=0, r_ui=5, est=4.1875, details={'actual_k': 16, 'was_impossible': False})"
     },
     "execution_count": 278,
     "metadata": {},
     "output_type": "execute_result"
    }
   ],
   "source": [
    "# Predicting rating for a sample user with an interacted product\n",
    "\n",
    "items_knn_base.predict(user3L_id, prod14_id, r_ui=5, verbose=True)"
   ]
  },
  {
   "cell_type": "markdown",
   "metadata": {
    "id": "2h0OyDMFTsns"
   },
   "source": [
    "The baseline item-item model does a better job of predicting user 1050's rating of product 0, than the baseline user-user model. It also used found more neighbours than the user-user model did (16 vs 5)"
   ]
  },
  {
   "cell_type": "markdown",
   "metadata": {
    "id": "BqKGZoAtTsns"
   },
   "source": [
    "Below we are **predicting rating for the `userId = A34BZM6S9L7QI4` and `prod_id = 1400501466`**."
   ]
  },
  {
   "cell_type": "code",
   "execution_count": 282,
   "metadata": {
    "id": "5yILOxXRTsns",
    "ExecuteTime": {
     "end_time": "2024-09-23T12:32:45.133562Z",
     "start_time": "2024-09-23T12:32:45.086853Z"
    }
   },
   "outputs": [
    {
     "name": "stdout",
     "output_type": "stream",
     "text": [
      "user: 870        item: 0          r_ui = None   est = 4.00   {'actual_k': 3, 'was_impossible': False}\n"
     ]
    },
    {
     "data": {
      "text/plain": "Prediction(uid=870, iid=0, r_ui=None, est=4.0, details={'actual_k': 3, 'was_impossible': False})"
     },
     "execution_count": 282,
     "metadata": {},
     "output_type": "execute_result"
    }
   ],
   "source": [
    "# Predicting rating for a sample user with a non interacted product\n",
    "\n",
    "# predict the users rating of the product using the algorithm\n",
    "items_knn_base.predict(user34_id, prod14_id, verbose=True)"
   ]
  },
  {
   "cell_type": "markdown",
   "metadata": {
    "id": "sDKaAveJTsns"
   },
   "source": [
    "The item-item model predicts a much higher rating (4) than the user-user baseline model did. It also found 3 neighbours vs the 2 neighbours that both the baseline and optimized user-user models did (2)."
   ]
  },
  {
   "cell_type": "markdown",
   "metadata": {
    "id": "meSvpNLj_EjD"
   },
   "source": [
    "### **Hyperparameter tuning the item-item similarity-based model**\n",
    "- Use the following values for the param_grid and tune the model.\n",
    "  - 'k': [10, 20, 30]\n",
    "  - 'min_k': [3, 6, 9]\n",
    "  - 'sim_options': {'name': ['msd', 'cosine']\n",
    "  - 'user_based': [False]\n",
    "- Use GridSearchCV() to tune the model using the 'rmse' measure\n",
    "- Print the best score and best parameters "
   ]
  },
  {
   "cell_type": "code",
   "outputs": [],
   "source": [
    "# Setting up parameter grid to tune the hyperparameters\n",
    "\n",
    "params_item: dict = {\n",
    "    'k': [10, 20, 30, 40],\n",
    "    'min_k': [3, 6, 9],\n",
    "    'sim_options': {\n",
    "        'name': ['cosine', 'msd'],\n",
    "        'user_based': [False]\n",
    "    }\n",
    "}\n",
    "# Performing 3-fold cross-validation to tune the hyperparameters\n",
    "gs_item = GridSearchCV(KNNBasic, params_item, measures=['rmse'], cv=3, n_jobs=-1)\n",
    "# Fitting the data\n",
    "gs_item.fit(data_su)"
   ],
   "metadata": {
    "collapsed": false,
    "ExecuteTime": {
     "end_time": "2024-09-23T12:34:31.849156Z",
     "start_time": "2024-09-23T12:33:18.436765Z"
    }
   },
   "execution_count": 283
  },
  {
   "cell_type": "code",
   "outputs": [
    {
     "data": {
      "text/plain": "0.9748903007814276"
     },
     "execution_count": 284,
     "metadata": {},
     "output_type": "execute_result"
    }
   ],
   "source": [
    "# Best RMSE score\n",
    "rmse_item_bs = gs_item.best_score['rmse']\n",
    "rmse_item_bs"
   ],
   "metadata": {
    "collapsed": false,
    "ExecuteTime": {
     "end_time": "2024-09-23T12:34:41.685285Z",
     "start_time": "2024-09-23T12:34:41.662134Z"
    }
   },
   "execution_count": 284
  },
  {
   "cell_type": "markdown",
   "source": [
    "The root mean squared error decreased significantly from 1.034 to 0.975."
   ],
   "metadata": {
    "collapsed": false
   }
  },
  {
   "cell_type": "code",
   "outputs": [
    {
     "data": {
      "text/plain": "{'k': 20, 'min_k': 6, 'sim_options': {'name': 'msd', 'user_based': False}}"
     },
     "execution_count": 288,
     "metadata": {},
     "output_type": "execute_result"
    }
   ],
   "source": [
    "# view the RMSE best params\n",
    "rmse_item_bp = gs_item.best_params['rmse']\n",
    "rmse_item_bp"
   ],
   "metadata": {
    "collapsed": false,
    "ExecuteTime": {
     "end_time": "2024-09-23T12:36:41.988027Z",
     "start_time": "2024-09-23T12:36:41.974261Z"
    }
   },
   "execution_count": 288
  },
  {
   "cell_type": "markdown",
   "metadata": {
    "id": "1psOlx6zTsnt"
   },
   "source": [
    "Once the **grid search** is complete, we can get the **optimal values for each of those hyperparameters as shown above.**"
   ]
  },
  {
   "cell_type": "markdown",
   "metadata": {
    "id": "JrSTaQemTsnt"
   },
   "source": [
    "Now let's build the **final model** by using **tuned values of the hyperparameters** which we received by using grid search cross-validation."
   ]
  },
  {
   "cell_type": "markdown",
   "metadata": {
    "id": "kOS9Dwnd_LN6"
   },
   "source": [
    "### **Use the best parameters from GridSearchCV to build the optimized item-item similarity-based model. Compare the performance of the optimized model with the baseline model.**"
   ]
  },
  {
   "cell_type": "code",
   "execution_count": 291,
   "metadata": {
    "collapsed": false,
    "ExecuteTime": {
     "end_time": "2024-09-23T12:37:37.138271Z",
     "start_time": "2024-09-23T12:37:36.393040Z"
    }
   },
   "outputs": [
    {
     "name": "stdout",
     "output_type": "stream",
     "text": [
      "Computing the msd similarity matrix...\n",
      "Done computing similarity matrix.\n"
     ]
    },
    {
     "data": {
      "text/plain": "<surprise.prediction_algorithms.knns.KNNBasic at 0x1fa86dccd00>"
     },
     "execution_count": 291,
     "metadata": {},
     "output_type": "execute_result"
    }
   ],
   "source": [
    "# Using the optimal similarity measure for item-item based collaborative filtering\n",
    "\n",
    "# Creating an instance of KNNBasic with optimal hyperparameter values\n",
    "items_knn_optimized = KNNBasic(sim_options=rmse_item_bp['sim_options'], k=rmse_item_bp['k'], min_k=rmse_item_bp['min_k'], random_state=1)\n",
    "\n",
    "# fit the data to the algorithm \n",
    "items_knn_optimized.fit(trainset)"
   ]
  },
  {
   "cell_type": "code",
   "outputs": [
    {
     "name": "stdout",
     "output_type": "stream",
     "text": [
      "Recommended k for testing: 10.656413612565444\n",
      "RMSE: 0.9804\n",
      "Precision:  0.831\n",
      "Recall:  0.906\n",
      "F_1 score:  0.867\n"
     ]
    }
   ],
   "source": [
    "# Call precision_recall_at_k to compute precision@k, recall@k, and f_1 score with k = 10\n",
    "model_performances['items_knn_optimized'] = precision_recall_at_k(items_knn_optimized, k=15)"
   ],
   "metadata": {
    "id": "dSeiM1qeTsnt",
    "ExecuteTime": {
     "end_time": "2024-09-23T13:54:09.277616Z",
     "start_time": "2024-09-23T13:54:07.258710Z"
    }
   },
   "execution_count": 347
  },
  {
   "cell_type": "markdown",
   "metadata": {
    "id": "ZCXKnMI8Tsnt"
   },
   "source": [
    "The performance of the optimized model has improved significantly in comparison to the base model. The RMSE has decreased from 1.0345 to 0.984. The precision has remained constant and is only slightly less than the precision of the optimized user-user model. The recall has improved significantly to 0.906 (from 0.863, base-model) and is also slighly less than the recall of the optimized user-user model (0.91)"
   ]
  },
  {
   "cell_type": "markdown",
   "metadata": {
    "id": "Sbcj_H94Tsnt"
   },
   "source": [
    "### **Steps:**\n",
    "- **Predict rating for the user with `userId=\"A3LDPF5FMB782Z\"`, and `prod_id= \"1400501466\"` using the optimized model**\n",
    "- **Predict rating for `userId=\"A34BZM6S9L7QI4\"` who has not interacted with `prod_id =\"1400501466\"`, by using the optimized model**\n",
    "- **Compare the output with the output from the baseline model**"
   ]
  },
  {
   "cell_type": "code",
   "execution_count": 299,
   "metadata": {
    "id": "gIBRRvdoTsnt",
    "ExecuteTime": {
     "end_time": "2024-09-23T12:54:12.030280Z",
     "start_time": "2024-09-23T12:54:12.017287Z"
    }
   },
   "outputs": [
    {
     "name": "stdout",
     "output_type": "stream",
     "text": [
      "user: 1050       item: 0          r_ui = None   est = 4.53   {'actual_k': 16, 'was_impossible': False}\n"
     ]
    },
    {
     "data": {
      "text/plain": "Prediction(uid=1050, iid=0, r_ui=None, est=4.534653465346536, details={'actual_k': 16, 'was_impossible': False})"
     },
     "execution_count": 299,
     "metadata": {},
     "output_type": "execute_result"
    }
   ],
   "source": [
    "# Use sim_item_item_optimized model to recommend for userId \"A3LDPF5FMB782Z\" and productId \"1400501466\"\n",
    "items_knn_optimized.predict(uid = user3L_id, iid=prod14_id, verbose=True)"
   ]
  },
  {
   "cell_type": "markdown",
   "source": [
    "The item-item model predicts a rating of 4.53 for this product, compared to the actual rating of 5. This is the best predicted rating for this user-product pair of all the model predictions thus far."
   ],
   "metadata": {
    "collapsed": false
   }
  },
  {
   "cell_type": "code",
   "execution_count": 300,
   "metadata": {
    "ExecuteTime": {
     "end_time": "2024-09-23T12:54:21.372463Z",
     "start_time": "2024-09-23T12:54:21.358458Z"
    }
   },
   "outputs": [
    {
     "name": "stdout",
     "output_type": "stream",
     "text": [
      "user: 870        item: 0          r_ui = None   est = 4.30   {'was_impossible': True, 'reason': 'Not enough neighbors.'}\n"
     ]
    },
    {
     "data": {
      "text/plain": "Prediction(uid=870, iid=0, r_ui=None, est=4.29674200818327, details={'was_impossible': True, 'reason': 'Not enough neighbors.'})"
     },
     "execution_count": 300,
     "metadata": {},
     "output_type": "execute_result"
    }
   ],
   "source": [
    "# Use sim_item_item_optimized model to recommend for userId \"A34BZM6S9L7QI4\" and productId \"1400501466\"\n",
    "items_knn_optimized.predict(uid = user34_id, iid=prod14_id, verbose=True)"
   ]
  },
  {
   "cell_type": "markdown",
   "metadata": {},
   "source": [
    "The model predicts a rating of 4.3 for this user-item pair. The grid search found that a min_k of 6 optimized the models performance. However, 6 neighbours could not be found for this particular user-item pair, therefore the global average is being predicted as a fallback. \n",
    "\n",
    "As a better option, we can make a fallack model with min_k of 2."
   ]
  },
  {
   "cell_type": "code",
   "outputs": [],
   "source": [
    "# Setting up parameter grid to tune the hyperparameters\n",
    "\n",
    "params_item_fallback: dict = {\n",
    "    'k': [10, 20, 30, 40],\n",
    "    'min_k': [2],\n",
    "    'sim_options': {\n",
    "        'name': ['cosine', 'msd'],\n",
    "        'user_based': [False]\n",
    "    }\n",
    "}\n",
    "# Performing 3-fold cross-validation to tune the hyperparameters\n",
    "gs_item_fallback = GridSearchCV(KNNBasic, params_item_fallback, measures=['rmse'], cv=3, n_jobs=-1)\n",
    "# Fitting the data\n",
    "gs_item_fallback.fit(data_su)"
   ],
   "metadata": {
    "collapsed": false,
    "ExecuteTime": {
     "end_time": "2024-09-23T13:00:40.161679Z",
     "start_time": "2024-09-23T13:00:07.383848Z"
    }
   },
   "execution_count": 301
  },
  {
   "cell_type": "code",
   "outputs": [
    {
     "data": {
      "text/plain": "{'rmse': {'k': 40,\n  'min_k': 2,\n  'sim_options': {'name': 'cosine', 'user_based': False}}}"
     },
     "execution_count": 302,
     "metadata": {},
     "output_type": "execute_result"
    }
   ],
   "source": [
    "gs_item_fallback.best_params"
   ],
   "metadata": {
    "collapsed": false,
    "ExecuteTime": {
     "end_time": "2024-09-23T13:01:34.792122Z",
     "start_time": "2024-09-23T13:01:34.757145Z"
    }
   },
   "execution_count": 302
  },
  {
   "cell_type": "code",
   "outputs": [
    {
     "data": {
      "text/plain": "{'k': 50, 'min_k': 2, 'sim_options': {'name': 'cosine', 'user_based': True}}"
     },
     "execution_count": 304,
     "metadata": {},
     "output_type": "execute_result"
    }
   ],
   "source": [
    "# store the best params in a dict\n",
    "rmse_item_fallback_bp = gs_item_fallback.best_params['rmse']['sim_options']\n",
    "rmse_user_fallback_bp"
   ],
   "metadata": {
    "collapsed": false,
    "ExecuteTime": {
     "end_time": "2024-09-23T13:02:16.037012Z",
     "start_time": "2024-09-23T13:02:16.024325Z"
    }
   },
   "execution_count": 304
  },
  {
   "cell_type": "code",
   "outputs": [
    {
     "name": "stdout",
     "output_type": "stream",
     "text": [
      "Computing the cosine similarity matrix...\n",
      "Done computing similarity matrix.\n"
     ]
    },
    {
     "data": {
      "text/plain": "<surprise.prediction_algorithms.knns.KNNBasic at 0x1fa86f09220>"
     },
     "execution_count": 305,
     "metadata": {},
     "output_type": "execute_result"
    }
   ],
   "source": [
    "# intialize the fallback model\n",
    "items_knn_fallback = KNNBasic(k=rmse_user_fallback_bp['k'], min_k=rmse_user_fallback_bp['min_k'], sim_options=rmse_user_fallback_bp['sim_options'], random_state=1)\n",
    "\n",
    "items_knn_fallback.fit(trainset)"
   ],
   "metadata": {
    "collapsed": false,
    "ExecuteTime": {
     "end_time": "2024-09-23T13:05:18.900787Z",
     "start_time": "2024-09-23T13:05:18.312180Z"
    }
   },
   "execution_count": 305
  },
  {
   "cell_type": "code",
   "outputs": [
    {
     "name": "stdout",
     "output_type": "stream",
     "text": [
      "Recommended k for testing: 10.656413612565444\n",
      "RMSE: 0.9986\n",
      "Precision:  0.836\n",
      "Recall:  0.886\n",
      "F_1 score:  0.86\n"
     ]
    }
   ],
   "source": [
    "model_performances['items_knn_optimized_fallback'] = precision_recall_at_k(items_knn_optimized, k=15, model_fallback=items_knn_fallback)"
   ],
   "metadata": {
    "collapsed": false,
    "ExecuteTime": {
     "end_time": "2024-09-23T13:54:27.114074Z",
     "start_time": "2024-09-23T13:54:24.588511Z"
    }
   },
   "execution_count": 348
  },
  {
   "cell_type": "markdown",
   "source": [
    "With a fallback that is not the global average, the recall has decreased, but precision has slightly increased. "
   ],
   "metadata": {
    "collapsed": false
   }
  },
  {
   "cell_type": "markdown",
   "metadata": {
    "id": "MDlNB7tnTsnu"
   },
   "source": [
    "### **Identifying similar items to a given item (nearest neighbors)**"
   ]
  },
  {
   "cell_type": "markdown",
   "metadata": {
    "id": "RLdDiFA6Tsnu"
   },
   "source": [
    "We can also find out **similar items** to a given item or its nearest neighbors based on this **KNNBasic algorithm**. Below we are finding the 5 most similar items to the item with internal id 0 based on the `msd` distance metric."
   ]
  },
  {
   "cell_type": "code",
   "execution_count": 307,
   "metadata": {
    "id": "ZRJS4oDFTsnu",
    "ExecuteTime": {
     "end_time": "2024-09-23T13:07:54.179249Z",
     "start_time": "2024-09-23T13:07:54.165255Z"
    }
   },
   "outputs": [
    {
     "data": {
      "text/plain": "[9, 12, 13, 22, 28]"
     },
     "execution_count": 307,
     "metadata": {},
     "output_type": "execute_result"
    }
   ],
   "source": [
    "# use the get_neighbors method to find the list of nearest neighbours\n",
    "items_knn_optimized.get_neighbors(0, 5)"
   ]
  },
  {
   "cell_type": "markdown",
   "metadata": {},
   "source": [
    "**Predicting top 5 products for userId = \"A1A5KUIIIHFF4U\" with similarity based recommendation system.**\n",
    "\n",
    "**Hint:** Use the get_recommendations() function."
   ]
  },
  {
   "cell_type": "code",
   "execution_count": 309,
   "metadata": {
    "id": "rzoEbuZFTsnu",
    "ExecuteTime": {
     "end_time": "2024-09-23T13:08:13.361577Z",
     "start_time": "2024-09-23T13:08:12.212253Z"
    }
   },
   "outputs": [
    {
     "name": "stdout",
     "output_type": "stream",
     "text": [
      "Original user ID: A1A5KUIIIHFF4U\tEncoded user id: 125\n",
      "Original product ID: None\tEncoded Product id: None\n",
      "\n",
      "[(1, 4.29674200818327), (2, 4.29674200818327), (3, 4.29674200818327), (4, 4.29674200818327), (5, 4.29674200818327)]\n"
     ]
    }
   ],
   "source": [
    "# Making top 5 recommendations for user_id A1A5KUIIIHFF4U with similarity-based recommendation engine.\n",
    "\n",
    "# store the unencoded id for the user in case we want to use it again\n",
    "uidA1 = 'A1A5KUIIIHFF4U'\n",
    "\n",
    "# call the get_recommendations function for the given user\n",
    "recoms_items_list: list[tuple[int, float or int]] = get_recommendations(data_df, uidA1, 5, items_knn_optimized)\n",
    "\n",
    "# view the resulting list\n",
    "print(recoms_items_list)"
   ]
  },
  {
   "cell_type": "code",
   "execution_count": 310,
   "metadata": {
    "id": "_kXVTiysTsnv",
    "ExecuteTime": {
     "end_time": "2024-09-23T13:08:20.746547Z",
     "start_time": "2024-09-23T13:08:20.718906Z"
    }
   },
   "outputs": [
    {
     "data": {
      "text/plain": "   prod_id  predicted_ratings\n0        1           4.296742\n1        2           4.296742\n2        3           4.296742\n3        4           4.296742\n4        5           4.296742",
      "text/html": "<div>\n<style scoped>\n    .dataframe tbody tr th:only-of-type {\n        vertical-align: middle;\n    }\n\n    .dataframe tbody tr th {\n        vertical-align: top;\n    }\n\n    .dataframe thead th {\n        text-align: right;\n    }\n</style>\n<table border=\"1\" class=\"dataframe\">\n  <thead>\n    <tr style=\"text-align: right;\">\n      <th></th>\n      <th>prod_id</th>\n      <th>predicted_ratings</th>\n    </tr>\n  </thead>\n  <tbody>\n    <tr>\n      <th>0</th>\n      <td>1</td>\n      <td>4.296742</td>\n    </tr>\n    <tr>\n      <th>1</th>\n      <td>2</td>\n      <td>4.296742</td>\n    </tr>\n    <tr>\n      <th>2</th>\n      <td>3</td>\n      <td>4.296742</td>\n    </tr>\n    <tr>\n      <th>3</th>\n      <td>4</td>\n      <td>4.296742</td>\n    </tr>\n    <tr>\n      <th>4</th>\n      <td>5</td>\n      <td>4.296742</td>\n    </tr>\n  </tbody>\n</table>\n</div>"
     },
     "execution_count": 310,
     "metadata": {},
     "output_type": "execute_result"
    }
   ],
   "source": [
    "# Building the dataframe for above recommendations with columns \"prod_id\" and \"predicted_ratings\"\n",
    "# initialize a DataFrame using the list\n",
    "recoms_item_df = pd.DataFrame(recoms_items_list, columns=['prod_id', 'predicted_ratings'])\n",
    "\n",
    "# inspect the resulting dataframe\n",
    "recoms_item_df"
   ]
  },
  {
   "cell_type": "markdown",
   "metadata": {
    "id": "DHzmYvs0Tsnv"
   },
   "source": [
    "Now as we have seen **similarity-based collaborative filtering algorithms**, let us now get into **model-based collaborative filtering algorithms**."
   ]
  },
  {
   "cell_type": "markdown",
   "metadata": {
    "id": "rKgJpSA9vOOL"
   },
   "source": [
    "### **Model 3: Model-Based Collaborative Filtering - Matrix Factorization**"
   ]
  },
  {
   "cell_type": "markdown",
   "metadata": {
    "id": "YF6ZGyqhCAob"
   },
   "source": [
    "Model-based Collaborative Filtering is a **personalized recommendation system**, the recommendations are based on the past behavior of the user and it is not dependent on any additional information. We use **latent features** to find recommendations for each user."
   ]
  },
  {
   "cell_type": "markdown",
   "metadata": {
    "id": "n4Otha8ovOOL"
   },
   "source": [
    "### Singular Value Decomposition (SVD)"
   ]
  },
  {
   "cell_type": "markdown",
   "metadata": {
    "id": "3sGl3QkLvOOL"
   },
   "source": [
    "SVD is used to **compute the latent features** from the **user-item matrix**. But SVD does not work when we **miss values** in the **user-item matrix**."
   ]
  },
  {
   "cell_type": "code",
   "execution_count": 311,
   "metadata": {
    "collapsed": false,
    "ExecuteTime": {
     "end_time": "2024-09-23T13:08:40.658023Z",
     "start_time": "2024-09-23T13:08:39.985427Z"
    }
   },
   "outputs": [
    {
     "data": {
      "text/plain": "<surprise.prediction_algorithms.matrix_factorization.SVD at 0x1fa86dbe670>"
     },
     "execution_count": 311,
     "metadata": {},
     "output_type": "execute_result"
    }
   ],
   "source": [
    "# Using SVD matrix factorization. Use random_state = 1\n",
    "svd: SVD = SVD(random_state=1)\n",
    "\n",
    "# Training the algorithm on the trainset\n",
    "svd.fit(trainset)"
   ]
  },
  {
   "cell_type": "code",
   "outputs": [
    {
     "name": "stdout",
     "output_type": "stream",
     "text": [
      "Recommended k for testing: 10.656413612565444\n",
      "RMSE: 0.9114\n",
      "Precision:  0.842\n",
      "Recall:  0.897\n",
      "F_1 score:  0.869\n"
     ]
    }
   ],
   "source": [
    "# Use the function precision_recall_at_k to compute precision@k, recall@k, F1-Score, and RMSE\n",
    "model_performances['svd_baseline'] = precision_recall_at_k(svd, k=15)"
   ],
   "metadata": {
    "id": "07-2PT5Ssjqm",
    "ExecuteTime": {
     "end_time": "2024-09-23T13:54:40.016458Z",
     "start_time": "2024-09-23T13:54:39.786791Z"
    }
   },
   "execution_count": 349
  },
  {
   "cell_type": "markdown",
   "metadata": {
    "id": "BQ6fTuCDnVNL"
   },
   "source": [
    " The baseline SVD model performs quite well. The RMSE is significantly less than that of both the optimized user-user and item-item models (0.9790 and 0.984 respectively). \n",
    "\n",
    "In terms of precision the SVD model slightly outperforms both the optimized user-user and item-item models (0.842 SVD, 0.836 User-User, 0.831 Item-Item).\n",
    "\n",
    "The recall of the baseline SVD (0.897) is slightly lower than the tuned user-user model (0.91) as well as the tuned item-item model (0.906). However the baseline SVD model out-performs the baseline user-user and item-item models in terms of recall."
   ]
  },
  {
   "cell_type": "markdown",
   "metadata": {},
   "source": [
    "**Let's now predict the rating for a user with `userId = \"A3LDPF5FMB782Z\"` and `prod_id = \"1400501466`.**"
   ]
  },
  {
   "cell_type": "code",
   "execution_count": 317,
   "metadata": {
    "id": "yWIhfdxXsjqm",
    "ExecuteTime": {
     "end_time": "2024-09-23T13:27:18.069121Z",
     "start_time": "2024-09-23T13:27:18.045135Z"
    }
   },
   "outputs": [
    {
     "data": {
      "text/plain": "Prediction(uid=1050, iid=0, r_ui=5, est=4.262585198727372, details={'was_impossible': False})"
     },
     "execution_count": 317,
     "metadata": {},
     "output_type": "execute_result"
    }
   ],
   "source": [
    "# Making prediction\n",
    "svd.predict(uid=user3L_id, iid=prod14_id, r_ui=5)"
   ]
  },
  {
   "cell_type": "markdown",
   "metadata": {
    "id": "oIjzqDY5nVNM"
   },
   "source": [
    "The SVD gives a prediction of 4.26. This is not as good as the prediction of the tuned item-item model which predicted 4.53."
   ]
  },
  {
   "cell_type": "markdown",
   "metadata": {
    "id": "I1aYxVeMnVNM"
   },
   "source": [
    "**Below we are predicting rating for the `userId = \"A34BZM6S9L7QI4\"` and `productId = \"1400501466\"`.**"
   ]
  },
  {
   "cell_type": "code",
   "execution_count": 316,
   "metadata": {
    "id": "APm-uMSvcAMf",
    "ExecuteTime": {
     "end_time": "2024-09-23T13:25:48.794017Z",
     "start_time": "2024-09-23T13:25:48.782358Z"
    }
   },
   "outputs": [
    {
     "data": {
      "text/plain": "Prediction(uid=870, iid=0, r_ui=None, est=4.430784168423419, details={'was_impossible': False})"
     },
     "execution_count": 316,
     "metadata": {},
     "output_type": "execute_result"
    }
   ],
   "source": [
    "# Making prediction\n",
    "svd.predict(uid=user34_id, iid=prod14_id)"
   ]
  },
  {
   "cell_type": "markdown",
   "metadata": {
    "id": "NEL6dy3wnVNM"
   },
   "source": [
    "For user 870, who has not seen the product, the svd model predicted a rating of 4.43. This is a lot higher than the rating predicted by the baseline user-user model (2), as well as the tuned item-item and user-user models which both predicted the global average (4.3). The predicted rating of 4.43 aligns more closely with the distribution of the data, and might be the reason that the RMSE of the svd model is significantly lower than the RMSE of the other models."
   ]
  },
  {
   "cell_type": "markdown",
   "metadata": {
    "id": "x13Eb9Owvpcw"
   },
   "source": [
    "### **Improving Matrix Factorization based recommendation system by tuning its hyperparameters**"
   ]
  },
  {
   "cell_type": "markdown",
   "metadata": {
    "id": "iQcDPhhcnVNN"
   },
   "source": [
    "Below we will be tuning only three hyperparameters:\n",
    "- **n_epochs**: The number of iterations of the SGD algorithm.\n",
    "- **lr_all**: The learning rate for all parameters.\n",
    "- **reg_all**: The regularization term for all parameters."
   ]
  },
  {
   "cell_type": "code",
   "execution_count": 318,
   "metadata": {
    "collapsed": false,
    "ExecuteTime": {
     "end_time": "2024-09-23T13:35:59.119853Z",
     "start_time": "2024-09-23T13:35:59.106869Z"
    }
   },
   "outputs": [],
   "source": [
    "# Set the parameter space to tune\n",
    "params_grid_svd = {\n",
    "    'n_factors': [10, 15, 20, 30],\n",
    "    'n_epochs': [10, 20, 30], \n",
    "    'lr_all': [0.001, 0.005, 0.01], \n",
    "    'reg_all': [0.2, 0.4, 0.6]\n",
    "}"
   ]
  },
  {
   "cell_type": "code",
   "outputs": [],
   "source": [
    "# Performing 3-fold gridsearch cross-validation\n",
    "gs_svd = GridSearchCV(SVD, params_grid_svd, measures=['rmse'], cv=3, n_jobs=-1)\n",
    "\n",
    "# fit the data to the grid\n",
    "gs_svd.fit(data_su)"
   ],
   "metadata": {
    "collapsed": false,
    "ExecuteTime": {
     "end_time": "2024-09-23T13:36:49.035359Z",
     "start_time": "2024-09-23T13:36:02.658812Z"
    }
   },
   "execution_count": 319
  },
  {
   "cell_type": "code",
   "outputs": [
    {
     "name": "stdout",
     "output_type": "stream",
     "text": [
      "{'rmse': 0.8973830608440916}\n"
     ]
    }
   ],
   "source": [
    "# Best RMSE score\n",
    "svd_bs = gs_svd.best_score\n",
    "print(svd_bs)"
   ],
   "metadata": {
    "collapsed": false,
    "ExecuteTime": {
     "end_time": "2024-09-21T11:58:31.217845Z",
     "start_time": "2024-09-21T11:58:31.205853Z"
    }
   },
   "execution_count": 66
  },
  {
   "cell_type": "code",
   "outputs": [
    {
     "name": "stdout",
     "output_type": "stream",
     "text": [
      "{'n_factors': 15, 'n_epochs': 30, 'lr_all': 0.005, 'reg_all': 0.2}\n"
     ]
    }
   ],
   "source": [
    "# Combination of parameters that gave the best RMSE score\n",
    "svd_params_star = gs_svd.best_params['rmse']\n",
    "print(svd_params_star)"
   ],
   "metadata": {
    "id": "4bM81V_hvtwv",
    "ExecuteTime": {
     "end_time": "2024-09-23T13:38:16.967905Z",
     "start_time": "2024-09-23T13:38:16.952138Z"
    }
   },
   "execution_count": 320
  },
  {
   "cell_type": "markdown",
   "metadata": {
    "id": "KzY78HsrnVNO"
   },
   "source": [
    "Now, we will **the build final model** by using **tuned values** of the hyperparameters, which we received using grid search cross-validation above."
   ]
  },
  {
   "cell_type": "code",
   "execution_count": 321,
   "metadata": {
    "collapsed": false,
    "ExecuteTime": {
     "end_time": "2024-09-23T13:38:22.535096Z",
     "start_time": "2024-09-23T13:38:21.595170Z"
    }
   },
   "outputs": [
    {
     "data": {
      "text/plain": "<surprise.prediction_algorithms.matrix_factorization.SVD at 0x1fa86ecf130>"
     },
     "execution_count": 321,
     "metadata": {},
     "output_type": "execute_result"
    }
   ],
   "source": [
    "# Build the optimized SVD model using optimal hyperparameter search. Use random_state=1\n",
    "svd_optimized: SVD = SVD(n_epochs= svd_params_star['n_epochs'], lr_all=svd_params_star['lr_all'], reg_all=svd_params_star['reg_all'], random_state=1)\n",
    "# Train the algorithm on the trainset\n",
    "svd_optimized.fit(trainset)"
   ]
  },
  {
   "cell_type": "code",
   "outputs": [
    {
     "name": "stdout",
     "output_type": "stream",
     "text": [
      "Recommended k for testing: 10.656413612565444\n",
      "RMSE: 0.9039\n",
      "Precision:  0.843\n",
      "Recall:  0.897\n",
      "F_1 score:  0.869\n"
     ]
    }
   ],
   "source": [
    "# Use the function precision_recall_at_k to compute precision@k, recall@k, F1-Score, and RMSE\n",
    "model_performances['svd_optimized'] = precision_recall_at_k(svd_optimized, k = 15)"
   ],
   "metadata": {
    "id": "TA_7xe-nnhuu",
    "ExecuteTime": {
     "end_time": "2024-09-23T13:54:49.466423Z",
     "start_time": "2024-09-23T13:54:48.961762Z"
    }
   },
   "execution_count": 350
  },
  {
   "cell_type": "markdown",
   "metadata": {
    "id": "9HJvPsjITsny"
   },
   "source": [
    "Parameter tuning has led to virtually unchanged performance. The only change was a minor increase in precision from 0.842 to 0.843. RMSE also decreased slightly from 0.9114 to 0.9039."
   ]
  },
  {
   "cell_type": "markdown",
   "metadata": {},
   "source": [
    "### **Steps:**\n",
    "- **Predict rating for the user with `userId=\"A3LDPF5FMB782Z\"`, and `prod_id= \"1400501466\"` using the optimized model**\n",
    "- **Predict rating for `userId=\"A34BZM6S9L7QI4\"` who has not interacted with `prod_id =\"1400501466\"`, by using the optimized model**\n",
    "- **Compare the output with the output from the baseline model**"
   ]
  },
  {
   "cell_type": "code",
   "execution_count": 325,
   "metadata": {
    "ExecuteTime": {
     "end_time": "2024-09-23T13:41:32.263038Z",
     "start_time": "2024-09-23T13:41:32.242376Z"
    }
   },
   "outputs": [
    {
     "data": {
      "text/plain": "Prediction(uid=1050, iid=0, r_ui=5, est=4.19261240380915, details={'was_impossible': False})"
     },
     "execution_count": 325,
     "metadata": {},
     "output_type": "execute_result"
    }
   ],
   "source": [
    "# Use svd_algo_optimized model to recommend for userId \"A3LDPF5FMB782Z\" and productId \"1400501466\"\n",
    "svd_optimized.predict(uid=user3L_id, iid=prod14_id, r_ui=5)"
   ]
  },
  {
   "cell_type": "code",
   "execution_count": 326,
   "metadata": {
    "ExecuteTime": {
     "end_time": "2024-09-23T13:41:39.676472Z",
     "start_time": "2024-09-23T13:41:39.654460Z"
    }
   },
   "outputs": [
    {
     "data": {
      "text/plain": "Prediction(uid=870, iid=0, r_ui=None, est=4.31178622848482, details={'was_impossible': False})"
     },
     "execution_count": 326,
     "metadata": {},
     "output_type": "execute_result"
    }
   ],
   "source": [
    "# Use svd_algo_optimized model to recommend for userId \"A34BZM6S9L7QI4\" and productId \"1400501466\"\n",
    "svd_optimized.predict(uid=user34_id, iid=prod14_id)"
   ]
  },
  {
   "cell_type": "markdown",
   "source": [
    "The prediction made for user 1050 has decreased as the rating of 4.19 is lower than the prediction of 4.26 made by the baseline rating. The actual rating was 5.\n",
    "\n",
    "The tuned model also made a lower prediction for user 870 (4.31), who has not interacted, compared to the baseline model (4.43). The prediction is closer to the global average of the ratings."
   ],
   "metadata": {
    "collapsed": false
   }
  },
  {
   "cell_type": "markdown",
   "source": [
    "### Model 4: SVD++"
   ],
   "metadata": {
    "collapsed": false
   }
  },
  {
   "cell_type": "code",
   "outputs": [],
   "source": [
    "# import the SVD ++ class\n",
    "from surprise.prediction_algorithms.matrix_factorization import SVDpp"
   ],
   "metadata": {
    "collapsed": false,
    "ExecuteTime": {
     "end_time": "2024-09-23T13:45:32.930352Z",
     "start_time": "2024-09-23T13:45:32.922346Z"
    }
   },
   "execution_count": 328
  },
  {
   "cell_type": "code",
   "outputs": [
    {
     "data": {
      "text/plain": "<surprise.prediction_algorithms.matrix_factorization.SVDpp at 0x1fa86dcbbb0>"
     },
     "execution_count": 329,
     "metadata": {},
     "output_type": "execute_result"
    }
   ],
   "source": [
    "svd_pp = SVDpp(random_state=1)\n",
    "\n",
    "svd_pp.fit(trainset)"
   ],
   "metadata": {
    "collapsed": false,
    "ExecuteTime": {
     "end_time": "2024-09-23T13:45:40.871805Z",
     "start_time": "2024-09-23T13:45:33.737291Z"
    }
   },
   "execution_count": 329
  },
  {
   "cell_type": "code",
   "outputs": [
    {
     "name": "stdout",
     "output_type": "stream",
     "text": [
      "Recommended k for testing: 10.656413612565444\n",
      "RMSE: 0.9080\n",
      "Precision:  0.843\n",
      "Recall:  0.885\n",
      "F_1 score:  0.863\n"
     ]
    }
   ],
   "source": [
    "model_performances['svd_pp_baseline'] = precision_recall_at_k(svd_pp, k=15)"
   ],
   "metadata": {
    "collapsed": false,
    "ExecuteTime": {
     "end_time": "2024-09-23T13:54:59.324996Z",
     "start_time": "2024-09-23T13:54:57.149249Z"
    }
   },
   "execution_count": 351
  },
  {
   "cell_type": "code",
   "outputs": [],
   "source": [
    "params_grid_svd_pp: dict = {\n",
    "    'n_factors': [10, 15, 20],\n",
    "    'n_epochs': [30], \n",
    "    'lr_all': [0.002, 0.005],\n",
    "    'reg_all': [0.4, 0.6], \n",
    "}"
   ],
   "metadata": {
    "collapsed": false,
    "ExecuteTime": {
     "end_time": "2024-09-23T13:46:45.697566Z",
     "start_time": "2024-09-23T13:46:45.684958Z"
    }
   },
   "execution_count": 331
  },
  {
   "cell_type": "code",
   "outputs": [],
   "source": [
    "gs_svd_pp = GridSearchCV(SVDpp, params_grid_svd_pp, measures=['rmse'], cv=3, n_jobs=-1)"
   ],
   "metadata": {
    "collapsed": false,
    "ExecuteTime": {
     "end_time": "2024-09-23T13:46:59.530295Z",
     "start_time": "2024-09-23T13:46:59.516757Z"
    }
   },
   "execution_count": 332
  },
  {
   "cell_type": "code",
   "outputs": [],
   "source": [
    "gs_svd_pp.fit(data_su)"
   ],
   "metadata": {
    "collapsed": false,
    "ExecuteTime": {
     "end_time": "2024-09-23T13:48:15.679381Z",
     "start_time": "2024-09-23T13:47:03.173858Z"
    }
   },
   "execution_count": 333
  },
  {
   "cell_type": "code",
   "outputs": [
    {
     "data": {
      "text/plain": "{'rmse': 0.8988259765805986}"
     },
     "execution_count": 334,
     "metadata": {},
     "output_type": "execute_result"
    }
   ],
   "source": [
    "gs_svd_pp.best_score"
   ],
   "metadata": {
    "collapsed": false,
    "ExecuteTime": {
     "end_time": "2024-09-23T13:49:04.396493Z",
     "start_time": "2024-09-23T13:49:04.383816Z"
    }
   },
   "execution_count": 334
  },
  {
   "cell_type": "code",
   "outputs": [
    {
     "data": {
      "text/plain": "{'n_factors': 15, 'n_epochs': 30, 'lr_all': 0.005, 'reg_all': 0.4}"
     },
     "execution_count": 335,
     "metadata": {},
     "output_type": "execute_result"
    }
   ],
   "source": [
    "best_params = gs_svd_pp.best_params['rmse']\n",
    "best_params"
   ],
   "metadata": {
    "collapsed": false,
    "ExecuteTime": {
     "end_time": "2024-09-23T13:49:09.031293Z",
     "start_time": "2024-09-23T13:49:09.022495Z"
    }
   },
   "execution_count": 335
  },
  {
   "cell_type": "code",
   "outputs": [
    {
     "data": {
      "text/plain": "<surprise.prediction_algorithms.matrix_factorization.SVDpp at 0x1fa8afb2b80>"
     },
     "execution_count": 339,
     "metadata": {},
     "output_type": "execute_result"
    }
   ],
   "source": [
    "svd_pp_optimized = SVDpp(n_factors=best_params['n_factors'],n_epochs=best_params['n_epochs'], lr_all=best_params['lr_all'], reg_all=best_params['reg_all'], random_state=1)\n",
    "\n",
    "svd_pp_optimized.fit(trainset)"
   ],
   "metadata": {
    "collapsed": false,
    "ExecuteTime": {
     "end_time": "2024-09-23T13:50:53.553657Z",
     "start_time": "2024-09-23T13:50:44.038379Z"
    }
   },
   "execution_count": 339
  },
  {
   "cell_type": "code",
   "outputs": [
    {
     "name": "stdout",
     "output_type": "stream",
     "text": [
      "Recommended k for testing: 10.656413612565444\n",
      "RMSE: 0.9044\n",
      "Precision:  0.842\n",
      "Recall:  0.9\n",
      "F_1 score:  0.87\n"
     ]
    }
   ],
   "source": [
    "model_performances['svd_pp_optimized'] = precision_recall_at_k(svd_pp_optimized, k=15)"
   ],
   "metadata": {
    "collapsed": false,
    "ExecuteTime": {
     "end_time": "2024-09-23T13:55:06.822709Z",
     "start_time": "2024-09-23T13:55:04.639520Z"
    }
   },
   "execution_count": 352
  },
  {
   "cell_type": "markdown",
   "source": [
    "The SVD++ algorithm has the best performance of the models that we have seen thus far. \n",
    "\n",
    "The precision of the model is the equal to the precision of the tuned SVD model, however it outperforms the SVD model in terms of precision. \n",
    "\n",
    "The tuned collaborative-filtering models also managed to achieve similar recall levels, but SVD++ algorithm outperformed both models in precision. The SVD++ algorithm also does not suffer from the drawback of having to recommend the global average if the number of nearest neighbours is too low."
   ],
   "metadata": {
    "collapsed": false
   }
  },
  {
   "cell_type": "markdown",
   "metadata": {
    "id": "nnwPwgjB8DwS"
   },
   "source": [
    "### **Conclusion and Recommendations**"
   ]
  },
  {
   "cell_type": "markdown",
   "metadata": {
    "id": "xuqnifw9NF2p"
   },
   "source": [
    "The collaborative filtering models User-User collaborative filtering, and Item-Item collaborative filtering performed quite well after hyper-parameter tuning. Both collaborative filtering models obtained a recall of ~ 91%. Both of the tuned collaborative models had a precision of ~ 83%. The major drawback observed in both models was that the tuned models sometimes could not find a sufficient number of neighbours to perform a prediction and therefore resorted to predicted the global average rating of items.\n",
    "\n",
    "The matrix factorization methods SVD and SVD++ both performed very well. Both models had a precision of 84.2%. The SVD++ model also attained a recall of 90% (89.7% for SVD). These models did not suffer from the drawback of having to recommend the global average. They also reduced RMSE to ~ 0.91 in comparison to the collaborative filtering based models where RMSE approximately 0.98.\n",
    "\n",
    " The SVD++ model was tuned to optimal performance with 15 factors. This suggests that 15 latent features account for similarities in user ratings of items. These latent features can be explored to derive more sophisticated recommendation systems."
   ]
  },
  {
   "cell_type": "markdown",
   "source": [
    "The following class was used in the EDA: \n",
    "\n",
    "import matplotlib.pyplot as plt\n",
    "import seaborn as sns\n",
    "\n",
    "class DataScienceUtils:\n",
    "    @staticmethod\n",
    "    def inspect_variable_values(df: pd.DataFrame):\n",
    "\n",
    "        # iterate through each column\n",
    "        for i, col in enumerate(df.columns):\n",
    "\n",
    "            # get a pandas series of the values in each column\n",
    "            vals: np.ndarray = df[col].unique()\n",
    "\n",
    "            # get the data type of the variables\n",
    "            data_type = vals.dtype\n",
    "\n",
    "            non_null_pct = df[col].isnull().sum() / df[col].count() * 100\n",
    "\n",
    "            # print the column name\n",
    "            print(f'{i + 1}. {col} \\n')\n",
    "\n",
    "            # print the columns data type\n",
    "            print(f'Data type: {data_type}')\n",
    "\n",
    "            # print the number of values the variable takes on\n",
    "            print(\"Number of distinct values:\", len(vals))\n",
    "\n",
    "            print(f\"Percentage of entries null: {non_null_pct}\")\n",
    "\n",
    "            # print the values inside the column\n",
    "\n",
    "            # if the variable takes on < 20 vals, print all the values\n",
    "            if len(vals) < 20:\n",
    "                print(\"Values taken on by the variable:\", vals, '\\n')\n",
    "            else:\n",
    "                # otherwise, if the variable takes on > 20 values and is numeric, then print the range of values the variable takes on\n",
    "                if isinstance(data_type, (np.dtypes.Int64DType, np.dtypes.Float64DType)):\n",
    "                    print(\"Values taken on by the variable:\", f\"Range: {vals.min()} - {vals.max()}\", '\\n')\n",
    "                else:\n",
    "                    # otherwise the values are categorical, then print only the first 20 values\n",
    "                    print(\"Values taken on by the variable:\", vals[:20], '\\n')\n",
    "\n",
    "            # new line between columns\n",
    "            print()\n",
    "\n",
    "    @staticmethod\n",
    "    def get_vars_by_type(df: pd.DataFrame) -> tuple[list, list, list]:\n",
    "        \"\"\"\n",
    "        Args:\n",
    "            df: The dataframe whose variables we would like to categorize into numerical, binary and categorical.\n",
    "        Returns:\n",
    "            A tuple of lists, elem 1: Numerical, elem 2: Categorical, elem 3: Binary\n",
    "        \"\"\"\n",
    "        # list of column names for numerical variables\n",
    "        numerical_vars: list = []\n",
    "\n",
    "        # list of column names for categorical variables\n",
    "        categorical_vars: list = []\n",
    "\n",
    "        # list of column names for binary variables\n",
    "        binary_vars: list = []\n",
    "\n",
    "        binary_words_remove = [\"Unknown\", \"other\", \"unknown\", \"Other\", np.nan]\n",
    "\n",
    "        # loop through the data and add the column name to the appropriate list\n",
    "        for col in df:\n",
    "\n",
    "            vals: np.ndarray = df[col].dropna(inplace=False).unique()\n",
    "\n",
    "            # remove any extra words\n",
    "            vals = vals[~np.isin(vals, binary_words_remove)]\n",
    "\n",
    "            data_type = vals.dtype\n",
    "\n",
    "            # first test whether the data is numeric\n",
    "            if isinstance(data_type, np.dtypes.Float64DType):\n",
    "                numerical_vars.append(col)\n",
    "            elif isinstance(data_type, (np.dtypes.Int64DType, int)):\n",
    "                if (vals > 1).any() or (vals < 0).any():\n",
    "                    numerical_vars.append(col)\n",
    "                else:\n",
    "                    binary_vars.append(col)\n",
    "            elif np.isin([\"Yes\", \"yes\", \"no\", \"NO\"], vals).any() or len(vals) == 2:\n",
    "                binary_vars.append(col)\n",
    "            else:\n",
    "                categorical_vars.append(col)\n",
    "\n",
    "        return numerical_vars, categorical_vars, binary_vars\n",
    "\n",
    "    @staticmethod\n",
    "    def analyze_categorical_features(df: pd.DataFrame, cat_features: list, bivariate=False, target=None):\n",
    "\n",
    "        if not bivariate:\n",
    "            # loop through each column and create a countplot\n",
    "            for i, col in enumerate(cat_features):\n",
    "                print(f\"{i + 1}. Analysis for {col}:\", '\\n')\n",
    "                plt.figure(figsize=(10, 5))\n",
    "                sns.countplot(x=df[col])\n",
    "                plt.title(f\"{col}\")\n",
    "                plt.xlabel(col)\n",
    "                plt.ylabel(\"Count\")\n",
    "                plt.show()\n",
    "                print(df[col].value_counts(normalize=True), \"\\n\")\n",
    "\n",
    "        else:\n",
    "            # compute the joint distribution of the status, and each of the variables in cat_features\n",
    "            joint_dist = pd.pivot_table(df, index=target, columns=cat_features, aggfunc='size')\n",
    "\n",
    "            # drop the na columns\n",
    "            joint_dist = joint_dist.loc[1, :].dropna()\n",
    "\n",
    "            # sort values in descending order\n",
    "            joint_dist.sort_values(ascending=False, inplace=True)\n",
    "\n",
    "            # make a list of observed values\n",
    "            observed_values: list = [[value[i] for value in joint_dist.index.values] for i in range(0, len(cat_features))]\n",
    "\n",
    "            # make a list of pandas series using the list of observed values\n",
    "            observed_values_series: list = [pd.Series(observed_values[i]).value_counts(normalize=True) for i in\n",
    "                                            range(0, len(cat_features))]\n",
    "\n",
    "            for i, col in enumerate(cat_features):\n",
    "                # compute a pivot table with values being the counts of each observation\n",
    "                table = pd.pivot_table(df, index=target, columns=col, aggfunc='size')\n",
    "\n",
    "                # compute the proportion rather than count\n",
    "                table = table.div(table.sum(axis=0), axis=1)\n",
    "\n",
    "                # split words in the title to capitalize\n",
    "                title = col.split(\"_\")\n",
    "\n",
    "                # capitalize each word in the title and join into a single word\n",
    "                title = ' '.join(word.capitalize() for word in title)\n",
    "\n",
    "                # compute the proportions of each value of the variable falling into 1 or 0 of the status variable\n",
    "                proportions: pd.DataFrame = pd.crosstab(df[col], df[target], normalize='index').reset_index()\n",
    "\n",
    "                # melt for plotting\n",
    "                proportions: pd.DataFrame = proportions.melt(id_vars=col, var_name=target, value_name='Proportion')\n",
    "\n",
    "                print(f\"Bivariate EDA for {col}: \", '\\n')\n",
    "\n",
    "                # initialize the figure\n",
    "                plt.figure(figsize=(10, 3))\n",
    "\n",
    "                # add a title\n",
    "                plt.title(f\"Bar plot of {title} by {target}\")\n",
    "\n",
    "                # plot the barplot\n",
    "                sns.barplot(x=col, y=\"Proportion\", hue=target, data=proportions)\n",
    "\n",
    "                # display\n",
    "                plt.show()\n",
    "\n",
    "                print(f\"Proportion of {target} for each value of {col}:\", \"\\n\")\n",
    "\n",
    "                print(table, \"\\n\")\n",
    "\n",
    "                print(f\"Empirical distribution of {target} with respect to the {col} variable\",\n",
    "                      \"\\n\")\n",
    "                print(observed_values_series[i])\n",
    "\n",
    "                print(f\"Other\")\n",
    "\n",
    "                plt.suptitle(f\"{col}\")\n",
    "\n",
    "                sns.countplot(data=df, x=target, stat='proportion', hue=col)\n",
    "\n",
    "                plt.show()\n",
    "\n",
    "    @staticmethod\n",
    "    def analyze_numerical_features(df: pd.DataFrame, numerical_vars: list, bivariate=False, target=None):\n",
    "        # view summary statistics of numerical variables\n",
    "        if not bivariate:\n",
    "            summary_data = df[numerical_vars].describe().T\n",
    "        else:\n",
    "            summary_data: list = [df.loc[df[target] == i, numerical_vars].describe() for i in range(2)]\n",
    "\n",
    "        # loop through the columns of the dataframe\n",
    "        for col in numerical_vars:\n",
    "\n",
    "            # initialize a figure\n",
    "            fig = plt.figure(figsize=(10, 3))\n",
    "\n",
    "            plt.suptitle(f\"{col}\")\n",
    "\n",
    "            # add subplots to the figure\n",
    "            ax_1 = fig.add_subplot(1, 2, 1)\n",
    "            ax_2 = fig.add_subplot(1, 2, 2)\n",
    "\n",
    "            if bivariate:\n",
    "\n",
    "                # create the histogram and add it to the first ax\n",
    "                sns.histplot(data=df, x=col, ax=ax_1, kde=True, stat='proportion', hue=target)\n",
    "\n",
    "                # create the boxplot and add it to the second ax\n",
    "                sns.boxplot(data=df, x=col, ax=ax_2, showmeans=True, hue=target)\n",
    "\n",
    "                # display the plot\n",
    "                plt.show()\n",
    "\n",
    "                # concatenate the summary stats for positive and negative cases\n",
    "                comparison = pd.concat([summary_data[0][col], summary_data[1][col]], axis=1)\n",
    "\n",
    "                # rename the columns of the df\n",
    "                comparison.columns = [f\"{col}_0\", f\"{col}_1\"]\n",
    "\n",
    "                print(\n",
    "                    f\"Comparison of the summary statistics for paying and non-paying customers for the {col} variable\",\n",
    "                    \"\\n\")\n",
    "                print(comparison, \"\\n\")\n",
    "\n",
    "            else:\n",
    "\n",
    "                # view summary statistics of numerical variables\n",
    "                summary_data = df[numerical_vars].describe().T\n",
    "                # create the histogram and add it to the first ax\n",
    "                sns.histplot(data=df, x=col, ax=ax_1, kde=True, stat='proportion')\n",
    "\n",
    "                # create the boxplot and add it to the second ax\n",
    "                sns.boxplot(data=df, x=col, ax=ax_2, showmeans=True)\n",
    "\n",
    "                # display the plot\n",
    "                plt.show()\n",
    "\n",
    "                print(f\"Summary statistics for the {col} variable\", \"\\n\")\n",
    "                print(summary_data.loc[col, :], \"\\n\")\n",
    "\n",
    "    @staticmethod\n",
    "    def analyze_binary_features(df: pd.DataFrame, binary_vars: list):\n",
    "        # loop through the columns of the dataframe\n",
    "        for i, col in enumerate(binary_vars):\n",
    "            print(f\"{i}. Analysis for {col}:\")\n",
    "\n",
    "            plt.figure(figsize=(10, 3))\n",
    "\n",
    "            plt.suptitle(f\"{col} normalized bar plot\")\n",
    "\n",
    "            # use value counts to get the proportions of Yes and No\n",
    "            bin_vals: pd.Series = df[col].value_counts(normalize=True)\n",
    "\n",
    "            # create a dataframe using the proportions\n",
    "            bin_df = pd.DataFrame({col: bin_vals.index, 'Proportion': bin_vals.values})\n",
    "\n",
    "            sns.barplot(data=bin_df, x=col, y='Proportion')\n",
    "\n",
    "            plt.show()\n",
    "\n",
    "            print(df[col].value_counts(normalize=True))\n",
    "\n",
    "    @staticmethod\n",
    "    def evaluate_model():\n",
    "        pass\n",
    "\n",
    "    @staticmethod\n",
    "    def hello():\n",
    "        print(\"Hello World!\")"
   ],
   "metadata": {
    "collapsed": false
   }
  }
 ],
 "metadata": {
  "colab": {
   "provenance": []
  },
  "kernelspec": {
   "display_name": "Python 3 (ipykernel)",
   "language": "python",
   "name": "python3"
  },
  "language_info": {
   "codemirror_mode": {
    "name": "ipython",
    "version": 3
   },
   "file_extension": ".py",
   "mimetype": "text/x-python",
   "name": "python",
   "nbconvert_exporter": "python",
   "pygments_lexer": "ipython3",
   "version": "3.9.7"
  }
 },
 "nbformat": 4,
 "nbformat_minor": 1
}
